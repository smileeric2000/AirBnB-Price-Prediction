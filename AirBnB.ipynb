{
 "cells": [
  {
   "cell_type": "code",
   "execution_count": 1,
   "id": "294be88c-81f7-4bbc-a4bf-3b7b3c795b9b",
   "metadata": {},
   "outputs": [],
   "source": [
    "# pip install pycaret"
   ]
  },
  {
   "cell_type": "markdown",
   "id": "2566dddf-b9c7-4d82-a73f-69ff30f7181b",
   "metadata": {},
   "source": [
    "## AirBnB Optimization\n",
    "\n",
    "#### Airbnb\n",
    "    Airbnb Inc, is an American company that operates an online marketplace for lodging, primarily homestays for vacation rentals, and tourism activities. Based in San Francisco, California, the platform is accessible via website and mobile app. Airbnb does not own any of the listed properties; instead, it profits by receiving commission from each booking. The company was founded in 2008. Airbnb is a shortened version of its original name, AirBedandBreakfast.com.\n",
    "\n",
    "#### Content\n",
    "\n",
    "    The following Airbnb activity is included in this New York dataset:\n",
    "    Listings, including full descriptions and average review score Reviews, including unique id for each reviewer and detailed comments Calendar, including listing id and the price and availability for that day\n",
    "\n",
    "#### Goal\n",
    "\n",
    "    Predict Airbnb listing prices using features like location, room type, reviews, etc.\n",
    "\n"
   ]
  },
  {
   "cell_type": "markdown",
   "id": "612df89f-7b66-434a-8647-7a4eda2248bc",
   "metadata": {},
   "source": [
    "#### Import and Ananlyze Dataset"
   ]
  },
  {
   "cell_type": "code",
   "execution_count": 2,
   "id": "b09a32ca-2c0f-4d10-ab86-d29dbc53ab41",
   "metadata": {},
   "outputs": [],
   "source": [
    "import pandas as pd\n",
    "import numpy as np"
   ]
  },
  {
   "cell_type": "code",
   "execution_count": 3,
   "id": "e49b0265-7776-468f-a446-2de992e9ea6a",
   "metadata": {},
   "outputs": [
    {
     "name": "stderr",
     "output_type": "stream",
     "text": [
      "C:\\Users\\USER\\AppData\\Local\\Temp\\ipykernel_13260\\139868976.py:2: DtypeWarning: Columns (25) have mixed types. Specify dtype option on import or set low_memory=False.\n",
      "  data = pd.read_csv('Airbnb_Open_Data.csv')\n"
     ]
    }
   ],
   "source": [
    "#import dataset\n",
    "data = pd.read_csv('Airbnb_Open_Data.csv')"
   ]
  },
  {
   "cell_type": "code",
   "execution_count": 4,
   "id": "7d81fe74-be22-46e2-b193-8f59a7ba01ca",
   "metadata": {},
   "outputs": [
    {
     "data": {
      "text/html": [
       "<div>\n",
       "<style scoped>\n",
       "    .dataframe tbody tr th:only-of-type {\n",
       "        vertical-align: middle;\n",
       "    }\n",
       "\n",
       "    .dataframe tbody tr th {\n",
       "        vertical-align: top;\n",
       "    }\n",
       "\n",
       "    .dataframe thead th {\n",
       "        text-align: right;\n",
       "    }\n",
       "</style>\n",
       "<table border=\"1\" class=\"dataframe\">\n",
       "  <thead>\n",
       "    <tr style=\"text-align: right;\">\n",
       "      <th></th>\n",
       "      <th>id</th>\n",
       "      <th>NAME</th>\n",
       "      <th>host id</th>\n",
       "      <th>host_identity_verified</th>\n",
       "      <th>host name</th>\n",
       "      <th>neighbourhood group</th>\n",
       "      <th>neighbourhood</th>\n",
       "      <th>lat</th>\n",
       "      <th>long</th>\n",
       "      <th>country</th>\n",
       "      <th>...</th>\n",
       "      <th>service fee</th>\n",
       "      <th>minimum nights</th>\n",
       "      <th>number of reviews</th>\n",
       "      <th>last review</th>\n",
       "      <th>reviews per month</th>\n",
       "      <th>review rate number</th>\n",
       "      <th>calculated host listings count</th>\n",
       "      <th>availability 365</th>\n",
       "      <th>house_rules</th>\n",
       "      <th>license</th>\n",
       "    </tr>\n",
       "  </thead>\n",
       "  <tbody>\n",
       "    <tr>\n",
       "      <th>0</th>\n",
       "      <td>1001254</td>\n",
       "      <td>Clean &amp; quiet apt home by the park</td>\n",
       "      <td>80014485718</td>\n",
       "      <td>unconfirmed</td>\n",
       "      <td>Madaline</td>\n",
       "      <td>Brooklyn</td>\n",
       "      <td>Kensington</td>\n",
       "      <td>40.64749</td>\n",
       "      <td>-73.97237</td>\n",
       "      <td>United States</td>\n",
       "      <td>...</td>\n",
       "      <td>$193</td>\n",
       "      <td>10.0</td>\n",
       "      <td>9.0</td>\n",
       "      <td>10/19/2021</td>\n",
       "      <td>0.21</td>\n",
       "      <td>4.0</td>\n",
       "      <td>6.0</td>\n",
       "      <td>286.0</td>\n",
       "      <td>Clean up and treat the home the way you'd like...</td>\n",
       "      <td>NaN</td>\n",
       "    </tr>\n",
       "    <tr>\n",
       "      <th>1</th>\n",
       "      <td>1002102</td>\n",
       "      <td>Skylit Midtown Castle</td>\n",
       "      <td>52335172823</td>\n",
       "      <td>verified</td>\n",
       "      <td>Jenna</td>\n",
       "      <td>Manhattan</td>\n",
       "      <td>Midtown</td>\n",
       "      <td>40.75362</td>\n",
       "      <td>-73.98377</td>\n",
       "      <td>United States</td>\n",
       "      <td>...</td>\n",
       "      <td>$28</td>\n",
       "      <td>30.0</td>\n",
       "      <td>45.0</td>\n",
       "      <td>5/21/2022</td>\n",
       "      <td>0.38</td>\n",
       "      <td>4.0</td>\n",
       "      <td>2.0</td>\n",
       "      <td>228.0</td>\n",
       "      <td>Pet friendly but please confirm with me if the...</td>\n",
       "      <td>NaN</td>\n",
       "    </tr>\n",
       "    <tr>\n",
       "      <th>2</th>\n",
       "      <td>1002403</td>\n",
       "      <td>THE VILLAGE OF HARLEM....NEW YORK !</td>\n",
       "      <td>78829239556</td>\n",
       "      <td>NaN</td>\n",
       "      <td>Elise</td>\n",
       "      <td>Manhattan</td>\n",
       "      <td>Harlem</td>\n",
       "      <td>40.80902</td>\n",
       "      <td>-73.94190</td>\n",
       "      <td>United States</td>\n",
       "      <td>...</td>\n",
       "      <td>$124</td>\n",
       "      <td>3.0</td>\n",
       "      <td>0.0</td>\n",
       "      <td>NaN</td>\n",
       "      <td>NaN</td>\n",
       "      <td>5.0</td>\n",
       "      <td>1.0</td>\n",
       "      <td>352.0</td>\n",
       "      <td>I encourage you to use my kitchen, cooking and...</td>\n",
       "      <td>NaN</td>\n",
       "    </tr>\n",
       "    <tr>\n",
       "      <th>3</th>\n",
       "      <td>1002755</td>\n",
       "      <td>NaN</td>\n",
       "      <td>85098326012</td>\n",
       "      <td>unconfirmed</td>\n",
       "      <td>Garry</td>\n",
       "      <td>Brooklyn</td>\n",
       "      <td>Clinton Hill</td>\n",
       "      <td>40.68514</td>\n",
       "      <td>-73.95976</td>\n",
       "      <td>United States</td>\n",
       "      <td>...</td>\n",
       "      <td>$74</td>\n",
       "      <td>30.0</td>\n",
       "      <td>270.0</td>\n",
       "      <td>7/5/2019</td>\n",
       "      <td>4.64</td>\n",
       "      <td>4.0</td>\n",
       "      <td>1.0</td>\n",
       "      <td>322.0</td>\n",
       "      <td>NaN</td>\n",
       "      <td>NaN</td>\n",
       "    </tr>\n",
       "    <tr>\n",
       "      <th>4</th>\n",
       "      <td>1003689</td>\n",
       "      <td>Entire Apt: Spacious Studio/Loft by central park</td>\n",
       "      <td>92037596077</td>\n",
       "      <td>verified</td>\n",
       "      <td>Lyndon</td>\n",
       "      <td>Manhattan</td>\n",
       "      <td>East Harlem</td>\n",
       "      <td>40.79851</td>\n",
       "      <td>-73.94399</td>\n",
       "      <td>United States</td>\n",
       "      <td>...</td>\n",
       "      <td>$41</td>\n",
       "      <td>10.0</td>\n",
       "      <td>9.0</td>\n",
       "      <td>11/19/2018</td>\n",
       "      <td>0.10</td>\n",
       "      <td>3.0</td>\n",
       "      <td>1.0</td>\n",
       "      <td>289.0</td>\n",
       "      <td>Please no smoking in the house, porch or on th...</td>\n",
       "      <td>NaN</td>\n",
       "    </tr>\n",
       "  </tbody>\n",
       "</table>\n",
       "<p>5 rows × 26 columns</p>\n",
       "</div>"
      ],
      "text/plain": [
       "        id                                              NAME      host id  \\\n",
       "0  1001254                Clean & quiet apt home by the park  80014485718   \n",
       "1  1002102                             Skylit Midtown Castle  52335172823   \n",
       "2  1002403               THE VILLAGE OF HARLEM....NEW YORK !  78829239556   \n",
       "3  1002755                                               NaN  85098326012   \n",
       "4  1003689  Entire Apt: Spacious Studio/Loft by central park  92037596077   \n",
       "\n",
       "  host_identity_verified host name neighbourhood group neighbourhood  \\\n",
       "0            unconfirmed  Madaline            Brooklyn    Kensington   \n",
       "1               verified     Jenna           Manhattan       Midtown   \n",
       "2                    NaN     Elise           Manhattan        Harlem   \n",
       "3            unconfirmed     Garry            Brooklyn  Clinton Hill   \n",
       "4               verified    Lyndon           Manhattan   East Harlem   \n",
       "\n",
       "        lat      long        country  ... service fee minimum nights  \\\n",
       "0  40.64749 -73.97237  United States  ...       $193            10.0   \n",
       "1  40.75362 -73.98377  United States  ...        $28            30.0   \n",
       "2  40.80902 -73.94190  United States  ...       $124             3.0   \n",
       "3  40.68514 -73.95976  United States  ...        $74            30.0   \n",
       "4  40.79851 -73.94399  United States  ...        $41            10.0   \n",
       "\n",
       "  number of reviews last review  reviews per month review rate number  \\\n",
       "0               9.0  10/19/2021               0.21                4.0   \n",
       "1              45.0   5/21/2022               0.38                4.0   \n",
       "2               0.0         NaN                NaN                5.0   \n",
       "3             270.0    7/5/2019               4.64                4.0   \n",
       "4               9.0  11/19/2018               0.10                3.0   \n",
       "\n",
       "  calculated host listings count  availability 365  \\\n",
       "0                            6.0             286.0   \n",
       "1                            2.0             228.0   \n",
       "2                            1.0             352.0   \n",
       "3                            1.0             322.0   \n",
       "4                            1.0             289.0   \n",
       "\n",
       "                                         house_rules license  \n",
       "0  Clean up and treat the home the way you'd like...     NaN  \n",
       "1  Pet friendly but please confirm with me if the...     NaN  \n",
       "2  I encourage you to use my kitchen, cooking and...     NaN  \n",
       "3                                                NaN     NaN  \n",
       "4  Please no smoking in the house, porch or on th...     NaN  \n",
       "\n",
       "[5 rows x 26 columns]"
      ]
     },
     "execution_count": 4,
     "metadata": {},
     "output_type": "execute_result"
    }
   ],
   "source": [
    "#observe data\n",
    "data.head()"
   ]
  },
  {
   "cell_type": "code",
   "execution_count": 5,
   "id": "cb84031c-1b85-4ebc-bb77-65a80f1e9e6b",
   "metadata": {},
   "outputs": [
    {
     "data": {
      "text/plain": [
       "(102599, 26)"
      ]
     },
     "execution_count": 5,
     "metadata": {},
     "output_type": "execute_result"
    }
   ],
   "source": [
    "#check data size\n",
    "data.shape"
   ]
  },
  {
   "cell_type": "markdown",
   "id": "a78ecfa9-9770-4b37-9b2d-37b79029afc5",
   "metadata": {},
   "source": [
    "#### Data cleaning"
   ]
  },
  {
   "cell_type": "code",
   "execution_count": 6,
   "id": "f20d0c20-dc9a-454e-93f5-851a6a446092",
   "metadata": {},
   "outputs": [
    {
     "data": {
      "text/plain": [
       "id                                     0\n",
       "NAME                                 250\n",
       "host id                                0\n",
       "host_identity_verified               289\n",
       "host name                            406\n",
       "neighbourhood group                   29\n",
       "neighbourhood                         16\n",
       "lat                                    8\n",
       "long                                   8\n",
       "country                              532\n",
       "country code                         131\n",
       "instant_bookable                     105\n",
       "cancellation_policy                   76\n",
       "room type                              0\n",
       "Construction year                    214\n",
       "price                                247\n",
       "service fee                          273\n",
       "minimum nights                       409\n",
       "number of reviews                    183\n",
       "last review                        15893\n",
       "reviews per month                  15879\n",
       "review rate number                   326\n",
       "calculated host listings count       319\n",
       "availability 365                     448\n",
       "house_rules                        52131\n",
       "license                           102597\n",
       "dtype: int64"
      ]
     },
     "execution_count": 6,
     "metadata": {},
     "output_type": "execute_result"
    }
   ],
   "source": [
    "data.isna().sum()"
   ]
  },
  {
   "cell_type": "markdown",
   "id": "95d77fb2-f5cd-4299-99ba-a1a23bda455b",
   "metadata": {},
   "source": [
    "##### Drop licence as it has no values "
   ]
  },
  {
   "cell_type": "code",
   "execution_count": 7,
   "id": "27e6b997-c4aa-489d-a64a-8c58166e0f8b",
   "metadata": {},
   "outputs": [],
   "source": [
    "data = data.drop('license', axis = 1)"
   ]
  },
  {
   "cell_type": "code",
   "execution_count": 8,
   "id": "2d9f64f8-77a2-488f-8c26-44d7b82c47ec",
   "metadata": {},
   "outputs": [
    {
     "data": {
      "text/plain": [
       "Index(['id', 'NAME', 'host id', 'host_identity_verified', 'host name',\n",
       "       'neighbourhood group', 'neighbourhood', 'lat', 'long', 'country',\n",
       "       'country code', 'instant_bookable', 'cancellation_policy', 'room type',\n",
       "       'Construction year', 'price', 'service fee', 'minimum nights',\n",
       "       'number of reviews', 'last review', 'reviews per month',\n",
       "       'review rate number', 'calculated host listings count',\n",
       "       'availability 365', 'house_rules'],\n",
       "      dtype='object')"
      ]
     },
     "execution_count": 8,
     "metadata": {},
     "output_type": "execute_result"
    }
   ],
   "source": [
    "data.columns     #.isna().sum()"
   ]
  },
  {
   "cell_type": "markdown",
   "id": "db2bcc78-74eb-45a2-9238-b79f6a568346",
   "metadata": {},
   "source": [
    "##### Features and their description\n",
    "\n",
    "\n",
    "| Feature                          | Description                                              |\r\n",
    "|----------------------------------|----------------------------------------------------------|\r\n",
    "| `id`                             | Unique listing ID                                        |\r\n",
    "| `NAME`                           | Title of the listing                                     |\r\n",
    "| `host id`                        | Unique ID for the host                                   |\r\n",
    "| `host_identity_verified`        | Whether host is verified                                 |\r\n",
    "| `host name`                      | Name of the host                                         |\r\n",
    "| `neighbourhood group`           | High-level area (e.g., city borough)                     |\r\n",
    "| `neighbourhood`                 | Specific neighborhood                                    |\r\n",
    "| `lat`                            | Latitude                                                 |\r\n",
    "| `long`                           | Longitude                                                |\r\n",
    "| `country`                        | Country name                                             |\r\n",
    "| `country code`                  | ISO country code                                         |\r\n",
    "| `instant_bookable`              | Can book instantly without approval                      |\r\n",
    "| `cancellation_policy`           | Level of cancellation flexibility                        |\r\n",
    "| `room type`                     | Entire home, private/shared room                         |\r\n",
    "| `Construction year`            | Year building was constructed                            |\r\n",
    "| `price`                          | Target variable (nightly price)                          |\r\n",
    "| `service fee`                   | Additional fee charged                                   |\r\n",
    "| `minimum nights`               | Minimum stay length                                      |\r\n",
    "| `number of reviews`            | Total number of reviews                                  |\r\n",
    "| `last review`                  | Date of last review                                      |\r\n",
    "| `reviews per month`            | Average monthly review count                             |\r\n",
    "| `review rate number`           | Average rating score                                     |\r\n",
    "| `calculated host listings count`| Total listings the host has                              |\r\n",
    "| `availability 365`             | Available days per year                                  |\r\n",
    "| `house_rules`                  | Host's custom rules                                      |\r\n",
    "timent                  |\r\n"
   ]
  },
  {
   "cell_type": "markdown",
   "id": "6ba38bba-b2e4-4c95-846b-d36671482ce0",
   "metadata": {},
   "source": [
    "##### Drop not-useful columns and redunctant ones\n",
    "\n",
    "    Based on the description above, we will drop the following features as they have no relevance to our analysis and ultimately to our model;\n",
    "    \n",
    "    Id, name, host id, host name, country code(this correlates perfectly with the feature 'country')"
   ]
  },
  {
   "cell_type": "code",
   "execution_count": 9,
   "id": "9efb8a3b-2719-41f7-babe-90c672fa230d",
   "metadata": {},
   "outputs": [
    {
     "data": {
      "text/plain": [
       "Index(['id', 'NAME', 'host id', 'host_identity_verified', 'host name',\n",
       "       'neighbourhood group', 'neighbourhood', 'lat', 'long', 'country',\n",
       "       'country code', 'instant_bookable', 'cancellation_policy', 'room type',\n",
       "       'Construction year', 'price', 'service fee', 'minimum nights',\n",
       "       'number of reviews', 'last review', 'reviews per month',\n",
       "       'review rate number', 'calculated host listings count',\n",
       "       'availability 365', 'house_rules'],\n",
       "      dtype='object')"
      ]
     },
     "execution_count": 9,
     "metadata": {},
     "output_type": "execute_result"
    }
   ],
   "source": [
    "data.columns"
   ]
  },
  {
   "cell_type": "code",
   "execution_count": 10,
   "id": "b685510a-f5d0-404f-b566-79cb19759a6a",
   "metadata": {},
   "outputs": [],
   "source": [
    "data = data.drop(['id', 'NAME', 'host id', 'host name',\n",
    "       'country code',], axis = 1)"
   ]
  },
  {
   "cell_type": "markdown",
   "id": "04bfd00a-d8cf-4856-8238-37de77a5e6c9",
   "metadata": {},
   "source": [
    "#### Feature Engineering"
   ]
  },
  {
   "cell_type": "markdown",
   "id": "bec69b33-54c3-44d4-9db8-93b383b75208",
   "metadata": {},
   "source": [
    "##### Handle categorical features (encoding)"
   ]
  },
  {
   "cell_type": "code",
   "execution_count": 11,
   "id": "61797364-a4b7-419a-91d3-0665943a75fa",
   "metadata": {},
   "outputs": [],
   "source": [
    "data1 = data.copy()"
   ]
  },
  {
   "cell_type": "code",
   "execution_count": 12,
   "id": "14a73667-bae8-4667-91b8-cdb421f00778",
   "metadata": {},
   "outputs": [
    {
     "data": {
      "text/plain": [
       "array(['unconfirmed', 'verified', nan], dtype=object)"
      ]
     },
     "execution_count": 12,
     "metadata": {},
     "output_type": "execute_result"
    }
   ],
   "source": [
    "data1['host_identity_verified'].unique()"
   ]
  },
  {
   "cell_type": "code",
   "execution_count": 13,
   "id": "76cd96b6-6e31-4e87-9c57-e27cccbcdbe5",
   "metadata": {},
   "outputs": [],
   "source": [
    "data1['host_identity_verified'] = data1['host_identity_verified'].map({'unconfirmed' : 0, 'verified' : 1})"
   ]
  },
  {
   "cell_type": "code",
   "execution_count": 14,
   "id": "41d96545-03e1-4af5-8538-226de55d8c61",
   "metadata": {},
   "outputs": [
    {
     "data": {
      "text/plain": [
       "array(['Brooklyn', 'Manhattan', 'brookln', 'manhatan', 'Queens', nan,\n",
       "       'Staten Island', 'Bronx'], dtype=object)"
      ]
     },
     "execution_count": 14,
     "metadata": {},
     "output_type": "execute_result"
    }
   ],
   "source": [
    "data1['neighbourhood group'].unique()"
   ]
  },
  {
   "cell_type": "code",
   "execution_count": 15,
   "id": "2c7c6579-ff00-4e57-b0a3-6c6643bf7d36",
   "metadata": {},
   "outputs": [],
   "source": [
    "data1['neighbourhood group'] = data1['neighbourhood group'].map({'Brooklyn' : 0, 'Manhattan' : 1, 'brookln' : 2, 'manhatan' : 3, 'Queens' : 4,\n",
    "       'Staten Island' : 5, 'Bronx' : 6})"
   ]
  },
  {
   "cell_type": "code",
   "execution_count": 16,
   "id": "f3ebe6b6-31ba-4715-a2fc-9759fc860641",
   "metadata": {},
   "outputs": [
    {
     "data": {
      "text/plain": [
       "224"
      ]
     },
     "execution_count": 16,
     "metadata": {},
     "output_type": "execute_result"
    }
   ],
   "source": [
    "data1['neighbourhood'].nunique()"
   ]
  },
  {
   "cell_type": "raw",
   "id": "24ef1e26-8dfa-4a8e-80c3-8744d650a33a",
   "metadata": {},
   "source": [
    "Since there are 224 categories, we use label encoder to handle features"
   ]
  },
  {
   "cell_type": "code",
   "execution_count": 17,
   "id": "507ff0b1-d693-434b-80fb-1c54c649c980",
   "metadata": {},
   "outputs": [],
   "source": [
    "from sklearn.preprocessing import LabelEncoder\n",
    "\n",
    "label_encoder = LabelEncoder()\n",
    "data1['neighbourhood'] = label_encoder.fit_transform(data1['neighbourhood'])  # Converts to integers 0 to 219\n"
   ]
  },
  {
   "cell_type": "code",
   "execution_count": 18,
   "id": "7bb06e6a-1c73-4654-9086-1dbbc31a3484",
   "metadata": {},
   "outputs": [
    {
     "data": {
      "text/plain": [
       "array(['United States', nan], dtype=object)"
      ]
     },
     "execution_count": 18,
     "metadata": {},
     "output_type": "execute_result"
    }
   ],
   "source": [
    "data1['country'].unique()"
   ]
  },
  {
   "cell_type": "code",
   "execution_count": 19,
   "id": "8cdb70f7-d69c-414f-9cdc-a1c2d01b888d",
   "metadata": {},
   "outputs": [],
   "source": [
    "data1['country'] = data1['country'].map({'United States' : 1})  "
   ]
  },
  {
   "cell_type": "code",
   "execution_count": 20,
   "id": "027d0a33-2bed-479c-9567-f06accf3f120",
   "metadata": {},
   "outputs": [
    {
     "data": {
      "text/plain": [
       "array([False, True, nan], dtype=object)"
      ]
     },
     "execution_count": 20,
     "metadata": {},
     "output_type": "execute_result"
    }
   ],
   "source": [
    "data1['instant_bookable'].unique()"
   ]
  },
  {
   "cell_type": "code",
   "execution_count": 21,
   "id": "f20162c2-0187-4e32-8004-0e3937b19659",
   "metadata": {},
   "outputs": [],
   "source": [
    "# data1['instant_bookable']  = data1['instant_bookable'].map({False, True,})"
   ]
  },
  {
   "cell_type": "code",
   "execution_count": 22,
   "id": "6416d117-d3d4-4c46-ba43-cdac1e29a63a",
   "metadata": {},
   "outputs": [
    {
     "data": {
      "text/plain": [
       "array(['strict', 'moderate', 'flexible', nan], dtype=object)"
      ]
     },
     "execution_count": 22,
     "metadata": {},
     "output_type": "execute_result"
    }
   ],
   "source": [
    "data1['cancellation_policy'].unique()"
   ]
  },
  {
   "cell_type": "code",
   "execution_count": 23,
   "id": "3c32d292-ebff-414f-9f1c-d8ce515bc641",
   "metadata": {},
   "outputs": [],
   "source": [
    "data1['cancellation_policy'] = data1['cancellation_policy'].map({'strict' : 0, 'moderate' : 1, 'flexible' : 2})"
   ]
  },
  {
   "cell_type": "code",
   "execution_count": 24,
   "id": "8a9d92fd-8fdf-4bd1-a25a-a2810f8fe166",
   "metadata": {},
   "outputs": [
    {
     "data": {
      "text/plain": [
       "array(['Private room', 'Entire home/apt', 'Shared room', 'Hotel room'],\n",
       "      dtype=object)"
      ]
     },
     "execution_count": 24,
     "metadata": {},
     "output_type": "execute_result"
    }
   ],
   "source": [
    "data1['room type'].unique()"
   ]
  },
  {
   "cell_type": "code",
   "execution_count": 25,
   "id": "8b36c5d6-0429-488e-9c6f-e2e997441e62",
   "metadata": {},
   "outputs": [],
   "source": [
    "data1['room type'] =  data1['room type'].map({'Private room' : 0 , 'Entire home/apt' : 1, 'Shared room' : 2, 'Hotel room' : 3})"
   ]
  },
  {
   "cell_type": "code",
   "execution_count": 26,
   "id": "f4a62973-013f-4d72-a2e9-6c1b6d4c22a7",
   "metadata": {},
   "outputs": [
    {
     "data": {
      "text/plain": [
       "1976"
      ]
     },
     "execution_count": 26,
     "metadata": {},
     "output_type": "execute_result"
    }
   ],
   "source": [
    "data1['house_rules'].nunique()"
   ]
  },
  {
   "cell_type": "code",
   "execution_count": 27,
   "id": "f28db701-793d-4d34-a839-86c65c0ca0c5",
   "metadata": {},
   "outputs": [],
   "source": [
    "#Using label encoder since there are 1976 instances\n",
    "label_encoder \n",
    "data1['house_rules'] = label_encoder.fit_transform(data1['house_rules'])  # Converts to integers \n"
   ]
  },
  {
   "cell_type": "code",
   "execution_count": 28,
   "id": "bb453984-6d9a-4c83-87ae-6793e0d030ef",
   "metadata": {},
   "outputs": [
    {
     "data": {
      "text/html": [
       "<div>\n",
       "<style scoped>\n",
       "    .dataframe tbody tr th:only-of-type {\n",
       "        vertical-align: middle;\n",
       "    }\n",
       "\n",
       "    .dataframe tbody tr th {\n",
       "        vertical-align: top;\n",
       "    }\n",
       "\n",
       "    .dataframe thead th {\n",
       "        text-align: right;\n",
       "    }\n",
       "</style>\n",
       "<table border=\"1\" class=\"dataframe\">\n",
       "  <thead>\n",
       "    <tr style=\"text-align: right;\">\n",
       "      <th></th>\n",
       "      <th>host_identity_verified</th>\n",
       "      <th>neighbourhood group</th>\n",
       "      <th>neighbourhood</th>\n",
       "      <th>lat</th>\n",
       "      <th>long</th>\n",
       "      <th>country</th>\n",
       "      <th>instant_bookable</th>\n",
       "      <th>cancellation_policy</th>\n",
       "      <th>room type</th>\n",
       "      <th>Construction year</th>\n",
       "      <th>price</th>\n",
       "      <th>service fee</th>\n",
       "      <th>minimum nights</th>\n",
       "      <th>number of reviews</th>\n",
       "      <th>last review</th>\n",
       "      <th>reviews per month</th>\n",
       "      <th>review rate number</th>\n",
       "      <th>calculated host listings count</th>\n",
       "      <th>availability 365</th>\n",
       "      <th>house_rules</th>\n",
       "    </tr>\n",
       "  </thead>\n",
       "  <tbody>\n",
       "    <tr>\n",
       "      <th>0</th>\n",
       "      <td>0.0</td>\n",
       "      <td>0.0</td>\n",
       "      <td>111</td>\n",
       "      <td>40.64749</td>\n",
       "      <td>-73.97237</td>\n",
       "      <td>1.0</td>\n",
       "      <td>False</td>\n",
       "      <td>0.0</td>\n",
       "      <td>0</td>\n",
       "      <td>2020.0</td>\n",
       "      <td>$966</td>\n",
       "      <td>$193</td>\n",
       "      <td>10.0</td>\n",
       "      <td>9.0</td>\n",
       "      <td>10/19/2021</td>\n",
       "      <td>0.21</td>\n",
       "      <td>4.0</td>\n",
       "      <td>6.0</td>\n",
       "      <td>286.0</td>\n",
       "      <td>444</td>\n",
       "    </tr>\n",
       "    <tr>\n",
       "      <th>1</th>\n",
       "      <td>1.0</td>\n",
       "      <td>1.0</td>\n",
       "      <td>130</td>\n",
       "      <td>40.75362</td>\n",
       "      <td>-73.98377</td>\n",
       "      <td>1.0</td>\n",
       "      <td>False</td>\n",
       "      <td>1.0</td>\n",
       "      <td>1</td>\n",
       "      <td>2007.0</td>\n",
       "      <td>$142</td>\n",
       "      <td>$28</td>\n",
       "      <td>30.0</td>\n",
       "      <td>45.0</td>\n",
       "      <td>5/21/2022</td>\n",
       "      <td>0.38</td>\n",
       "      <td>4.0</td>\n",
       "      <td>2.0</td>\n",
       "      <td>228.0</td>\n",
       "      <td>1218</td>\n",
       "    </tr>\n",
       "  </tbody>\n",
       "</table>\n",
       "</div>"
      ],
      "text/plain": [
       "   host_identity_verified  neighbourhood group  neighbourhood       lat  \\\n",
       "0                     0.0                  0.0            111  40.64749   \n",
       "1                     1.0                  1.0            130  40.75362   \n",
       "\n",
       "       long  country instant_bookable  cancellation_policy  room type  \\\n",
       "0 -73.97237      1.0            False                  0.0          0   \n",
       "1 -73.98377      1.0            False                  1.0          1   \n",
       "\n",
       "   Construction year  price service fee  minimum nights  number of reviews  \\\n",
       "0             2020.0  $966        $193             10.0                9.0   \n",
       "1             2007.0  $142         $28             30.0               45.0   \n",
       "\n",
       "  last review  reviews per month  review rate number  \\\n",
       "0  10/19/2021               0.21                 4.0   \n",
       "1   5/21/2022               0.38                 4.0   \n",
       "\n",
       "   calculated host listings count  availability 365  house_rules  \n",
       "0                             6.0             286.0          444  \n",
       "1                             2.0             228.0         1218  "
      ]
     },
     "execution_count": 28,
     "metadata": {},
     "output_type": "execute_result"
    }
   ],
   "source": [
    "data1.head(2)"
   ]
  },
  {
   "cell_type": "markdown",
   "id": "68e3c547-a00d-432a-8e7f-187d29bb2961",
   "metadata": {},
   "source": [
    "##### Handle Continuous Features"
   ]
  },
  {
   "cell_type": "code",
   "execution_count": 29,
   "id": "f7779bd4-7227-418c-8c99-51be3333b22d",
   "metadata": {},
   "outputs": [],
   "source": [
    "#remove the dollar symbol from price feature\n",
    "data1['price'] = data1['price'].str.replace('$', '', regex=False).str.replace(',', '', regex=False).astype(float)"
   ]
  },
  {
   "cell_type": "code",
   "execution_count": 30,
   "id": "8d99effa-b67f-4789-bf1e-cd1562b8bfcf",
   "metadata": {},
   "outputs": [
    {
     "data": {
      "text/html": [
       "<div>\n",
       "<style scoped>\n",
       "    .dataframe tbody tr th:only-of-type {\n",
       "        vertical-align: middle;\n",
       "    }\n",
       "\n",
       "    .dataframe tbody tr th {\n",
       "        vertical-align: top;\n",
       "    }\n",
       "\n",
       "    .dataframe thead th {\n",
       "        text-align: right;\n",
       "    }\n",
       "</style>\n",
       "<table border=\"1\" class=\"dataframe\">\n",
       "  <thead>\n",
       "    <tr style=\"text-align: right;\">\n",
       "      <th></th>\n",
       "      <th>host_identity_verified</th>\n",
       "      <th>neighbourhood group</th>\n",
       "      <th>neighbourhood</th>\n",
       "      <th>lat</th>\n",
       "      <th>long</th>\n",
       "      <th>country</th>\n",
       "      <th>instant_bookable</th>\n",
       "      <th>cancellation_policy</th>\n",
       "      <th>room type</th>\n",
       "      <th>Construction year</th>\n",
       "      <th>price</th>\n",
       "      <th>service fee</th>\n",
       "      <th>minimum nights</th>\n",
       "      <th>number of reviews</th>\n",
       "      <th>last review</th>\n",
       "      <th>reviews per month</th>\n",
       "      <th>review rate number</th>\n",
       "      <th>calculated host listings count</th>\n",
       "      <th>availability 365</th>\n",
       "      <th>house_rules</th>\n",
       "    </tr>\n",
       "  </thead>\n",
       "  <tbody>\n",
       "    <tr>\n",
       "      <th>0</th>\n",
       "      <td>0.0</td>\n",
       "      <td>0.0</td>\n",
       "      <td>111</td>\n",
       "      <td>40.64749</td>\n",
       "      <td>-73.97237</td>\n",
       "      <td>1.0</td>\n",
       "      <td>False</td>\n",
       "      <td>0.0</td>\n",
       "      <td>0</td>\n",
       "      <td>2020.0</td>\n",
       "      <td>966.0</td>\n",
       "      <td>$193</td>\n",
       "      <td>10.0</td>\n",
       "      <td>9.0</td>\n",
       "      <td>10/19/2021</td>\n",
       "      <td>0.21</td>\n",
       "      <td>4.0</td>\n",
       "      <td>6.0</td>\n",
       "      <td>286.0</td>\n",
       "      <td>444</td>\n",
       "    </tr>\n",
       "  </tbody>\n",
       "</table>\n",
       "</div>"
      ],
      "text/plain": [
       "   host_identity_verified  neighbourhood group  neighbourhood       lat  \\\n",
       "0                     0.0                  0.0            111  40.64749   \n",
       "\n",
       "       long  country instant_bookable  cancellation_policy  room type  \\\n",
       "0 -73.97237      1.0            False                  0.0          0   \n",
       "\n",
       "   Construction year  price service fee  minimum nights  number of reviews  \\\n",
       "0             2020.0  966.0       $193             10.0                9.0   \n",
       "\n",
       "  last review  reviews per month  review rate number  \\\n",
       "0  10/19/2021               0.21                 4.0   \n",
       "\n",
       "   calculated host listings count  availability 365  house_rules  \n",
       "0                             6.0             286.0          444  "
      ]
     },
     "execution_count": 30,
     "metadata": {},
     "output_type": "execute_result"
    }
   ],
   "source": [
    "#check if changes applied\n",
    "data1.head(1)"
   ]
  },
  {
   "cell_type": "code",
   "execution_count": 31,
   "id": "db6b4cda-c82e-409e-9014-15e65fe3815a",
   "metadata": {},
   "outputs": [],
   "source": [
    "data1['service fee'] = data1['service fee'].str.replace('$', '', regex=False).str.replace(',', '', regex=False).astype(float)"
   ]
  },
  {
   "cell_type": "code",
   "execution_count": 32,
   "id": "92b10ea3-6291-4981-8f6c-96df164631aa",
   "metadata": {},
   "outputs": [
    {
     "data": {
      "text/html": [
       "<div>\n",
       "<style scoped>\n",
       "    .dataframe tbody tr th:only-of-type {\n",
       "        vertical-align: middle;\n",
       "    }\n",
       "\n",
       "    .dataframe tbody tr th {\n",
       "        vertical-align: top;\n",
       "    }\n",
       "\n",
       "    .dataframe thead th {\n",
       "        text-align: right;\n",
       "    }\n",
       "</style>\n",
       "<table border=\"1\" class=\"dataframe\">\n",
       "  <thead>\n",
       "    <tr style=\"text-align: right;\">\n",
       "      <th></th>\n",
       "      <th>host_identity_verified</th>\n",
       "      <th>neighbourhood group</th>\n",
       "      <th>neighbourhood</th>\n",
       "      <th>lat</th>\n",
       "      <th>long</th>\n",
       "      <th>country</th>\n",
       "      <th>instant_bookable</th>\n",
       "      <th>cancellation_policy</th>\n",
       "      <th>room type</th>\n",
       "      <th>Construction year</th>\n",
       "      <th>price</th>\n",
       "      <th>service fee</th>\n",
       "      <th>minimum nights</th>\n",
       "      <th>number of reviews</th>\n",
       "      <th>last review</th>\n",
       "      <th>reviews per month</th>\n",
       "      <th>review rate number</th>\n",
       "      <th>calculated host listings count</th>\n",
       "      <th>availability 365</th>\n",
       "      <th>house_rules</th>\n",
       "    </tr>\n",
       "  </thead>\n",
       "  <tbody>\n",
       "    <tr>\n",
       "      <th>0</th>\n",
       "      <td>0.0</td>\n",
       "      <td>0.0</td>\n",
       "      <td>111</td>\n",
       "      <td>40.64749</td>\n",
       "      <td>-73.97237</td>\n",
       "      <td>1.0</td>\n",
       "      <td>False</td>\n",
       "      <td>0.0</td>\n",
       "      <td>0</td>\n",
       "      <td>2020.0</td>\n",
       "      <td>966.0</td>\n",
       "      <td>193.0</td>\n",
       "      <td>10.0</td>\n",
       "      <td>9.0</td>\n",
       "      <td>10/19/2021</td>\n",
       "      <td>0.21</td>\n",
       "      <td>4.0</td>\n",
       "      <td>6.0</td>\n",
       "      <td>286.0</td>\n",
       "      <td>444</td>\n",
       "    </tr>\n",
       "  </tbody>\n",
       "</table>\n",
       "</div>"
      ],
      "text/plain": [
       "   host_identity_verified  neighbourhood group  neighbourhood       lat  \\\n",
       "0                     0.0                  0.0            111  40.64749   \n",
       "\n",
       "       long  country instant_bookable  cancellation_policy  room type  \\\n",
       "0 -73.97237      1.0            False                  0.0          0   \n",
       "\n",
       "   Construction year  price  service fee  minimum nights  number of reviews  \\\n",
       "0             2020.0  966.0        193.0            10.0                9.0   \n",
       "\n",
       "  last review  reviews per month  review rate number  \\\n",
       "0  10/19/2021               0.21                 4.0   \n",
       "\n",
       "   calculated host listings count  availability 365  house_rules  \n",
       "0                             6.0             286.0          444  "
      ]
     },
     "execution_count": 32,
     "metadata": {},
     "output_type": "execute_result"
    }
   ],
   "source": [
    "data1.head(1)"
   ]
  },
  {
   "cell_type": "markdown",
   "id": "6beef734-a3ad-45ed-abaf-1e0874b529eb",
   "metadata": {},
   "source": [
    "##### Handle date-time data"
   ]
  },
  {
   "cell_type": "code",
   "execution_count": 33,
   "id": "19c6645e-34ae-40f3-abfe-f1ed0dce8e3c",
   "metadata": {},
   "outputs": [
    {
     "data": {
      "text/plain": [
       "dtype('O')"
      ]
     },
     "execution_count": 33,
     "metadata": {},
     "output_type": "execute_result"
    }
   ],
   "source": [
    "#Check data type of date feature\n",
    "data1['last review'].dtype"
   ]
  },
  {
   "cell_type": "code",
   "execution_count": 34,
   "id": "d1534190-5787-49f5-a7bc-83094a709dc4",
   "metadata": {},
   "outputs": [],
   "source": [
    "#convert datatime object to pandas.data_time\n",
    "data1['last review'] = pd.to_datetime(data['last review'])"
   ]
  },
  {
   "cell_type": "code",
   "execution_count": 35,
   "id": "a79f47c6-9671-4e9b-b463-1824b00af9ce",
   "metadata": {},
   "outputs": [
    {
     "data": {
      "text/plain": [
       "dtype('<M8[ns]')"
      ]
     },
     "execution_count": 35,
     "metadata": {},
     "output_type": "execute_result"
    }
   ],
   "source": [
    "data1['last review'].dtype"
   ]
  },
  {
   "cell_type": "code",
   "execution_count": 36,
   "id": "efa93015-f569-4730-85af-86ec61abe32d",
   "metadata": {},
   "outputs": [],
   "source": [
    "#extract date_time info from feature\n",
    "data1['month'] = data1['last review'].dt.month\n",
    "data1['year'] = data1['last review'].dt.year\n",
    "data1['day'] = data1['last review'].dt.day"
   ]
  },
  {
   "cell_type": "code",
   "execution_count": 37,
   "id": "067028f5-b589-4126-95fc-88fdd7ac0e7f",
   "metadata": {},
   "outputs": [
    {
     "name": "stdout",
     "output_type": "stream",
     "text": [
      "number of unique instances for \n",
      "Month: 12 \n",
      "Year: 16 \n",
      "Day: 31\n"
     ]
    }
   ],
   "source": [
    "print(f\"number of unique instances for \\nMonth: {data1['month'].nunique()} \\nYear: {data1['year'].nunique()} \\nDay: {data1['day'].nunique()}\")"
   ]
  },
  {
   "cell_type": "code",
   "execution_count": 38,
   "id": "32512b96-b567-4bc2-8baf-f1ca96c8eae2",
   "metadata": {},
   "outputs": [],
   "source": [
    "#haven extracted the values from date, we drop it\n",
    "data1 = data1.drop('last review', axis = 1)"
   ]
  },
  {
   "cell_type": "code",
   "execution_count": 39,
   "id": "81dcd030-25d1-40e2-a7d8-33052d5bc3ee",
   "metadata": {},
   "outputs": [
    {
     "data": {
      "text/html": [
       "<div>\n",
       "<style scoped>\n",
       "    .dataframe tbody tr th:only-of-type {\n",
       "        vertical-align: middle;\n",
       "    }\n",
       "\n",
       "    .dataframe tbody tr th {\n",
       "        vertical-align: top;\n",
       "    }\n",
       "\n",
       "    .dataframe thead th {\n",
       "        text-align: right;\n",
       "    }\n",
       "</style>\n",
       "<table border=\"1\" class=\"dataframe\">\n",
       "  <thead>\n",
       "    <tr style=\"text-align: right;\">\n",
       "      <th></th>\n",
       "      <th>host_identity_verified</th>\n",
       "      <th>neighbourhood group</th>\n",
       "      <th>neighbourhood</th>\n",
       "      <th>lat</th>\n",
       "      <th>long</th>\n",
       "      <th>country</th>\n",
       "      <th>instant_bookable</th>\n",
       "      <th>cancellation_policy</th>\n",
       "      <th>room type</th>\n",
       "      <th>Construction year</th>\n",
       "      <th>...</th>\n",
       "      <th>minimum nights</th>\n",
       "      <th>number of reviews</th>\n",
       "      <th>reviews per month</th>\n",
       "      <th>review rate number</th>\n",
       "      <th>calculated host listings count</th>\n",
       "      <th>availability 365</th>\n",
       "      <th>house_rules</th>\n",
       "      <th>month</th>\n",
       "      <th>year</th>\n",
       "      <th>day</th>\n",
       "    </tr>\n",
       "  </thead>\n",
       "  <tbody>\n",
       "    <tr>\n",
       "      <th>0</th>\n",
       "      <td>0.0</td>\n",
       "      <td>0.0</td>\n",
       "      <td>111</td>\n",
       "      <td>40.64749</td>\n",
       "      <td>-73.97237</td>\n",
       "      <td>1.0</td>\n",
       "      <td>False</td>\n",
       "      <td>0.0</td>\n",
       "      <td>0</td>\n",
       "      <td>2020.0</td>\n",
       "      <td>...</td>\n",
       "      <td>10.0</td>\n",
       "      <td>9.0</td>\n",
       "      <td>0.21</td>\n",
       "      <td>4.0</td>\n",
       "      <td>6.0</td>\n",
       "      <td>286.0</td>\n",
       "      <td>444</td>\n",
       "      <td>10.0</td>\n",
       "      <td>2021.0</td>\n",
       "      <td>19.0</td>\n",
       "    </tr>\n",
       "    <tr>\n",
       "      <th>1</th>\n",
       "      <td>1.0</td>\n",
       "      <td>1.0</td>\n",
       "      <td>130</td>\n",
       "      <td>40.75362</td>\n",
       "      <td>-73.98377</td>\n",
       "      <td>1.0</td>\n",
       "      <td>False</td>\n",
       "      <td>1.0</td>\n",
       "      <td>1</td>\n",
       "      <td>2007.0</td>\n",
       "      <td>...</td>\n",
       "      <td>30.0</td>\n",
       "      <td>45.0</td>\n",
       "      <td>0.38</td>\n",
       "      <td>4.0</td>\n",
       "      <td>2.0</td>\n",
       "      <td>228.0</td>\n",
       "      <td>1218</td>\n",
       "      <td>5.0</td>\n",
       "      <td>2022.0</td>\n",
       "      <td>21.0</td>\n",
       "    </tr>\n",
       "    <tr>\n",
       "      <th>2</th>\n",
       "      <td>NaN</td>\n",
       "      <td>1.0</td>\n",
       "      <td>97</td>\n",
       "      <td>40.80902</td>\n",
       "      <td>-73.94190</td>\n",
       "      <td>1.0</td>\n",
       "      <td>True</td>\n",
       "      <td>2.0</td>\n",
       "      <td>0</td>\n",
       "      <td>2005.0</td>\n",
       "      <td>...</td>\n",
       "      <td>3.0</td>\n",
       "      <td>0.0</td>\n",
       "      <td>NaN</td>\n",
       "      <td>5.0</td>\n",
       "      <td>1.0</td>\n",
       "      <td>352.0</td>\n",
       "      <td>583</td>\n",
       "      <td>NaN</td>\n",
       "      <td>NaN</td>\n",
       "      <td>NaN</td>\n",
       "    </tr>\n",
       "  </tbody>\n",
       "</table>\n",
       "<p>3 rows × 22 columns</p>\n",
       "</div>"
      ],
      "text/plain": [
       "   host_identity_verified  neighbourhood group  neighbourhood       lat  \\\n",
       "0                     0.0                  0.0            111  40.64749   \n",
       "1                     1.0                  1.0            130  40.75362   \n",
       "2                     NaN                  1.0             97  40.80902   \n",
       "\n",
       "       long  country instant_bookable  cancellation_policy  room type  \\\n",
       "0 -73.97237      1.0            False                  0.0          0   \n",
       "1 -73.98377      1.0            False                  1.0          1   \n",
       "2 -73.94190      1.0             True                  2.0          0   \n",
       "\n",
       "   Construction year  ...  minimum nights  number of reviews  \\\n",
       "0             2020.0  ...            10.0                9.0   \n",
       "1             2007.0  ...            30.0               45.0   \n",
       "2             2005.0  ...             3.0                0.0   \n",
       "\n",
       "   reviews per month  review rate number  calculated host listings count  \\\n",
       "0               0.21                 4.0                             6.0   \n",
       "1               0.38                 4.0                             2.0   \n",
       "2                NaN                 5.0                             1.0   \n",
       "\n",
       "   availability 365  house_rules  month    year   day  \n",
       "0             286.0          444   10.0  2021.0  19.0  \n",
       "1             228.0         1218    5.0  2022.0  21.0  \n",
       "2             352.0          583    NaN     NaN   NaN  \n",
       "\n",
       "[3 rows x 22 columns]"
      ]
     },
     "execution_count": 39,
     "metadata": {},
     "output_type": "execute_result"
    }
   ],
   "source": [
    "data1.head(3)"
   ]
  },
  {
   "cell_type": "markdown",
   "id": "39a1798c-b4d5-4d05-8d88-b02412bfbc00",
   "metadata": {},
   "source": [
    "#### Handle Null Values"
   ]
  },
  {
   "cell_type": "code",
   "execution_count": 40,
   "id": "76dfab75-5028-431f-8752-f881524521c9",
   "metadata": {},
   "outputs": [
    {
     "data": {
      "text/plain": [
       "host_identity_verified              289\n",
       "neighbourhood group                  29\n",
       "neighbourhood                         0\n",
       "lat                                   8\n",
       "long                                  8\n",
       "country                             532\n",
       "instant_bookable                    105\n",
       "cancellation_policy                  76\n",
       "room type                             0\n",
       "Construction year                   214\n",
       "price                               247\n",
       "service fee                         273\n",
       "minimum nights                      409\n",
       "number of reviews                   183\n",
       "reviews per month                 15879\n",
       "review rate number                  326\n",
       "calculated host listings count      319\n",
       "availability 365                    448\n",
       "house_rules                           0\n",
       "month                             15893\n",
       "year                              15893\n",
       "day                               15893\n",
       "dtype: int64"
      ]
     },
     "execution_count": 40,
     "metadata": {},
     "output_type": "execute_result"
    }
   ],
   "source": [
    "data1.isna().sum()"
   ]
  },
  {
   "cell_type": "code",
   "execution_count": 41,
   "id": "d27e4226-e3a8-4f92-b94b-a36582a554dc",
   "metadata": {},
   "outputs": [
    {
     "data": {
      "text/plain": [
       "102599"
      ]
     },
     "execution_count": 41,
     "metadata": {},
     "output_type": "execute_result"
    }
   ],
   "source": [
    "#total number of instances \n",
    "len(data1)"
   ]
  },
  {
   "cell_type": "code",
   "execution_count": 42,
   "id": "5beb41a7-ae68-42e4-88d8-3c8cef8bc3ed",
   "metadata": {},
   "outputs": [
    {
     "data": {
      "text/plain": [
       "86706"
      ]
     },
     "execution_count": 42,
     "metadata": {},
     "output_type": "execute_result"
    }
   ],
   "source": [
    "#number of instances if most null values are removed\n",
    "102599 - 15893"
   ]
  },
  {
   "cell_type": "raw",
   "id": "e2209b0b-b30f-478d-a868-e5a3db73e6c0",
   "metadata": {},
   "source": [
    "We have over 15,000 null values from different features, so it would be impractical to fill them using an Imputer, and even if we do fill them so, it would have a redundant effect on our model performance, so we thereby drop null values, because we would still have about 90,000 instances left"
   ]
  },
  {
   "cell_type": "code",
   "execution_count": 43,
   "id": "3dce29a7-7f33-465c-a655-a4429884eb10",
   "metadata": {},
   "outputs": [],
   "source": [
    "data2 = data1.copy()\n",
    "data3 = data2.copy()"
   ]
  },
  {
   "cell_type": "markdown",
   "id": "4d91c53b-f7a7-4c10-a624-0775ff9399a0",
   "metadata": {},
   "source": [
    "##### Drop null values "
   ]
  },
  {
   "cell_type": "code",
   "execution_count": 44,
   "id": "f5468dc8-f15d-4a36-8d86-cb8ef6c41ee4",
   "metadata": {},
   "outputs": [],
   "source": [
    "data2.dropna(inplace =True)"
   ]
  },
  {
   "cell_type": "code",
   "execution_count": 45,
   "id": "8e65c978-5b1d-4801-9e61-f02db9bd9c76",
   "metadata": {},
   "outputs": [
    {
     "data": {
      "text/plain": [
       "(84388, 22)"
      ]
     },
     "execution_count": 45,
     "metadata": {},
     "output_type": "execute_result"
    }
   ],
   "source": [
    "data2.shape"
   ]
  },
  {
   "cell_type": "code",
   "execution_count": 46,
   "id": "d19a849a-da03-4af7-8f46-06bd73e2eb71",
   "metadata": {},
   "outputs": [
    {
     "data": {
      "text/html": [
       "<div>\n",
       "<style scoped>\n",
       "    .dataframe tbody tr th:only-of-type {\n",
       "        vertical-align: middle;\n",
       "    }\n",
       "\n",
       "    .dataframe tbody tr th {\n",
       "        vertical-align: top;\n",
       "    }\n",
       "\n",
       "    .dataframe thead th {\n",
       "        text-align: right;\n",
       "    }\n",
       "</style>\n",
       "<table border=\"1\" class=\"dataframe\">\n",
       "  <thead>\n",
       "    <tr style=\"text-align: right;\">\n",
       "      <th></th>\n",
       "      <th>host_identity_verified</th>\n",
       "      <th>neighbourhood group</th>\n",
       "      <th>neighbourhood</th>\n",
       "      <th>lat</th>\n",
       "      <th>long</th>\n",
       "      <th>country</th>\n",
       "      <th>instant_bookable</th>\n",
       "      <th>cancellation_policy</th>\n",
       "      <th>room type</th>\n",
       "      <th>Construction year</th>\n",
       "      <th>...</th>\n",
       "      <th>minimum nights</th>\n",
       "      <th>number of reviews</th>\n",
       "      <th>reviews per month</th>\n",
       "      <th>review rate number</th>\n",
       "      <th>calculated host listings count</th>\n",
       "      <th>availability 365</th>\n",
       "      <th>house_rules</th>\n",
       "      <th>month</th>\n",
       "      <th>year</th>\n",
       "      <th>day</th>\n",
       "    </tr>\n",
       "  </thead>\n",
       "  <tbody>\n",
       "    <tr>\n",
       "      <th>0</th>\n",
       "      <td>0.0</td>\n",
       "      <td>0.0</td>\n",
       "      <td>111</td>\n",
       "      <td>40.64749</td>\n",
       "      <td>-73.97237</td>\n",
       "      <td>1.0</td>\n",
       "      <td>False</td>\n",
       "      <td>0.0</td>\n",
       "      <td>0</td>\n",
       "      <td>2020.0</td>\n",
       "      <td>...</td>\n",
       "      <td>10.0</td>\n",
       "      <td>9.0</td>\n",
       "      <td>0.21</td>\n",
       "      <td>4.0</td>\n",
       "      <td>6.0</td>\n",
       "      <td>286.0</td>\n",
       "      <td>444</td>\n",
       "      <td>10.0</td>\n",
       "      <td>2021.0</td>\n",
       "      <td>19.0</td>\n",
       "    </tr>\n",
       "    <tr>\n",
       "      <th>1</th>\n",
       "      <td>1.0</td>\n",
       "      <td>1.0</td>\n",
       "      <td>130</td>\n",
       "      <td>40.75362</td>\n",
       "      <td>-73.98377</td>\n",
       "      <td>1.0</td>\n",
       "      <td>False</td>\n",
       "      <td>1.0</td>\n",
       "      <td>1</td>\n",
       "      <td>2007.0</td>\n",
       "      <td>...</td>\n",
       "      <td>30.0</td>\n",
       "      <td>45.0</td>\n",
       "      <td>0.38</td>\n",
       "      <td>4.0</td>\n",
       "      <td>2.0</td>\n",
       "      <td>228.0</td>\n",
       "      <td>1218</td>\n",
       "      <td>5.0</td>\n",
       "      <td>2022.0</td>\n",
       "      <td>21.0</td>\n",
       "    </tr>\n",
       "  </tbody>\n",
       "</table>\n",
       "<p>2 rows × 22 columns</p>\n",
       "</div>"
      ],
      "text/plain": [
       "   host_identity_verified  neighbourhood group  neighbourhood       lat  \\\n",
       "0                     0.0                  0.0            111  40.64749   \n",
       "1                     1.0                  1.0            130  40.75362   \n",
       "\n",
       "       long  country instant_bookable  cancellation_policy  room type  \\\n",
       "0 -73.97237      1.0            False                  0.0          0   \n",
       "1 -73.98377      1.0            False                  1.0          1   \n",
       "\n",
       "   Construction year  ...  minimum nights  number of reviews  \\\n",
       "0             2020.0  ...            10.0                9.0   \n",
       "1             2007.0  ...            30.0               45.0   \n",
       "\n",
       "   reviews per month  review rate number  calculated host listings count  \\\n",
       "0               0.21                 4.0                             6.0   \n",
       "1               0.38                 4.0                             2.0   \n",
       "\n",
       "   availability 365  house_rules  month    year   day  \n",
       "0             286.0          444   10.0  2021.0  19.0  \n",
       "1             228.0         1218    5.0  2022.0  21.0  \n",
       "\n",
       "[2 rows x 22 columns]"
      ]
     },
     "execution_count": 46,
     "metadata": {},
     "output_type": "execute_result"
    }
   ],
   "source": [
    "data2.head(2)"
   ]
  },
  {
   "cell_type": "code",
   "execution_count": 49,
   "id": "80a04ce9-fe5a-4f55-bdf1-b4fffa4e037b",
   "metadata": {},
   "outputs": [],
   "source": [
    "# data3_imputed  = "
   ]
  },
  {
   "cell_type": "markdown",
   "id": "3a93b762-ff95-48c2-9b53-079741bdf222",
   "metadata": {},
   "source": [
    "#### Standardize data (continuous features)"
   ]
  },
  {
   "cell_type": "code",
   "execution_count": 50,
   "id": "14ccf2e0-93e9-4ecd-abfd-e1a97a42a01d",
   "metadata": {},
   "outputs": [],
   "source": [
    "from sklearn.preprocessing import StandardScaler"
   ]
  },
  {
   "cell_type": "code",
   "execution_count": 51,
   "id": "9e10895f-0d02-4f7e-b68d-763615e532cf",
   "metadata": {},
   "outputs": [],
   "source": [
    "x = data2.drop('price', axis = 1)\n",
    "y = data2['price']"
   ]
  },
  {
   "cell_type": "code",
   "execution_count": 52,
   "id": "1a9e7069-bb5d-459f-acfd-eea428a9d893",
   "metadata": {},
   "outputs": [
    {
     "data": {
      "text/html": [
       "<div>\n",
       "<style scoped>\n",
       "    .dataframe tbody tr th:only-of-type {\n",
       "        vertical-align: middle;\n",
       "    }\n",
       "\n",
       "    .dataframe tbody tr th {\n",
       "        vertical-align: top;\n",
       "    }\n",
       "\n",
       "    .dataframe thead th {\n",
       "        text-align: right;\n",
       "    }\n",
       "</style>\n",
       "<table border=\"1\" class=\"dataframe\">\n",
       "  <thead>\n",
       "    <tr style=\"text-align: right;\">\n",
       "      <th></th>\n",
       "      <th>host_identity_verified</th>\n",
       "      <th>neighbourhood group</th>\n",
       "      <th>neighbourhood</th>\n",
       "      <th>lat</th>\n",
       "      <th>long</th>\n",
       "      <th>country</th>\n",
       "      <th>instant_bookable</th>\n",
       "      <th>cancellation_policy</th>\n",
       "      <th>room type</th>\n",
       "      <th>Construction year</th>\n",
       "      <th>service fee</th>\n",
       "      <th>minimum nights</th>\n",
       "      <th>number of reviews</th>\n",
       "      <th>reviews per month</th>\n",
       "      <th>review rate number</th>\n",
       "      <th>calculated host listings count</th>\n",
       "      <th>availability 365</th>\n",
       "      <th>house_rules</th>\n",
       "      <th>month</th>\n",
       "      <th>year</th>\n",
       "      <th>day</th>\n",
       "    </tr>\n",
       "  </thead>\n",
       "  <tbody>\n",
       "    <tr>\n",
       "      <th>0</th>\n",
       "      <td>0.0</td>\n",
       "      <td>0.0</td>\n",
       "      <td>111</td>\n",
       "      <td>40.64749</td>\n",
       "      <td>-73.97237</td>\n",
       "      <td>1.0</td>\n",
       "      <td>False</td>\n",
       "      <td>0.0</td>\n",
       "      <td>0</td>\n",
       "      <td>2020.0</td>\n",
       "      <td>193.0</td>\n",
       "      <td>10.0</td>\n",
       "      <td>9.0</td>\n",
       "      <td>0.21</td>\n",
       "      <td>4.0</td>\n",
       "      <td>6.0</td>\n",
       "      <td>286.0</td>\n",
       "      <td>444</td>\n",
       "      <td>10.0</td>\n",
       "      <td>2021.0</td>\n",
       "      <td>19.0</td>\n",
       "    </tr>\n",
       "  </tbody>\n",
       "</table>\n",
       "</div>"
      ],
      "text/plain": [
       "   host_identity_verified  neighbourhood group  neighbourhood       lat  \\\n",
       "0                     0.0                  0.0            111  40.64749   \n",
       "\n",
       "       long  country instant_bookable  cancellation_policy  room type  \\\n",
       "0 -73.97237      1.0            False                  0.0          0   \n",
       "\n",
       "   Construction year  service fee  minimum nights  number of reviews  \\\n",
       "0             2020.0        193.0            10.0                9.0   \n",
       "\n",
       "   reviews per month  review rate number  calculated host listings count  \\\n",
       "0               0.21                 4.0                             6.0   \n",
       "\n",
       "   availability 365  house_rules  month    year   day  \n",
       "0             286.0          444   10.0  2021.0  19.0  "
      ]
     },
     "execution_count": 52,
     "metadata": {},
     "output_type": "execute_result"
    }
   ],
   "source": [
    "pd.options.display.max_columns = 30\n",
    "x.head(1)"
   ]
  },
  {
   "cell_type": "code",
   "execution_count": 53,
   "id": "03f5af3b-64c7-4628-9e4a-b1c14cf1e63e",
   "metadata": {},
   "outputs": [],
   "source": [
    "#extract continuous data for standardization\n",
    "x_norm = x[['neighbourhood', 'lat', 'long', 'service fee', 'availability 365']]"
   ]
  },
  {
   "cell_type": "code",
   "execution_count": 54,
   "id": "6c073018-d362-4659-aeb3-fbf6daca5030",
   "metadata": {},
   "outputs": [],
   "source": [
    "#extract categorical data\n",
    "x_cat = x[['host_identity_verified', 'neighbourhood group',\n",
    "        'country', 'instant_bookable', 'cancellation_policy',\n",
    "       'room type', 'Construction year', 'minimum nights',\n",
    "       'number of reviews', 'reviews per month', 'review rate number',\n",
    "       'calculated host listings count', 'house_rules',\n",
    "       'month', 'year', 'day']]"
   ]
  },
  {
   "cell_type": "code",
   "execution_count": 55,
   "id": "b3890b97-7ff9-43e0-a89c-703674e8c763",
   "metadata": {},
   "outputs": [],
   "source": [
    "#scale the extracted continuous data\n",
    "scaler = StandardScaler()\n",
    "x_trans = scaler.fit_transform(x_norm)"
   ]
  },
  {
   "cell_type": "code",
   "execution_count": 56,
   "id": "bd2d7b43-ab2d-4720-8bc3-76f011909f7e",
   "metadata": {},
   "outputs": [],
   "source": [
    "#convert the scaled data into dataframe\n",
    "x_norm_trans = pd.DataFrame(\n",
    "    data = x_trans,\n",
    "    columns = x_norm.columns,\n",
    ")"
   ]
  },
  {
   "cell_type": "code",
   "execution_count": 57,
   "id": "f6e6fff3-9e1b-40ce-bc08-26b9b9071140",
   "metadata": {},
   "outputs": [
    {
     "data": {
      "text/html": [
       "<div>\n",
       "<style scoped>\n",
       "    .dataframe tbody tr th:only-of-type {\n",
       "        vertical-align: middle;\n",
       "    }\n",
       "\n",
       "    .dataframe tbody tr th {\n",
       "        vertical-align: top;\n",
       "    }\n",
       "\n",
       "    .dataframe thead th {\n",
       "        text-align: right;\n",
       "    }\n",
       "</style>\n",
       "<table border=\"1\" class=\"dataframe\">\n",
       "  <thead>\n",
       "    <tr style=\"text-align: right;\">\n",
       "      <th></th>\n",
       "      <th>neighbourhood</th>\n",
       "      <th>lat</th>\n",
       "      <th>long</th>\n",
       "      <th>service fee</th>\n",
       "      <th>availability 365</th>\n",
       "    </tr>\n",
       "  </thead>\n",
       "  <tbody>\n",
       "    <tr>\n",
       "      <th>0</th>\n",
       "      <td>0.049200</td>\n",
       "      <td>-1.418153</td>\n",
       "      <td>-0.474059</td>\n",
       "      <td>1.021183</td>\n",
       "      <td>1.076864</td>\n",
       "    </tr>\n",
       "    <tr>\n",
       "      <th>1</th>\n",
       "      <td>0.321906</td>\n",
       "      <td>0.465928</td>\n",
       "      <td>-0.700302</td>\n",
       "      <td>-1.464859</td>\n",
       "      <td>0.643857</td>\n",
       "    </tr>\n",
       "    <tr>\n",
       "      <th>2</th>\n",
       "      <td>-0.941150</td>\n",
       "      <td>-0.749768</td>\n",
       "      <td>-0.223802</td>\n",
       "      <td>-0.771781</td>\n",
       "      <td>1.345626</td>\n",
       "    </tr>\n",
       "  </tbody>\n",
       "</table>\n",
       "</div>"
      ],
      "text/plain": [
       "   neighbourhood       lat      long  service fee  availability 365\n",
       "0       0.049200 -1.418153 -0.474059     1.021183          1.076864\n",
       "1       0.321906  0.465928 -0.700302    -1.464859          0.643857\n",
       "2      -0.941150 -0.749768 -0.223802    -0.771781          1.345626"
      ]
     },
     "execution_count": 57,
     "metadata": {},
     "output_type": "execute_result"
    }
   ],
   "source": [
    "#overview new dataframe\n",
    "x_norm_trans.head(3)"
   ]
  },
  {
   "cell_type": "code",
   "execution_count": 58,
   "id": "90524bbb-99a4-4c58-9dde-a9701f31d3ed",
   "metadata": {},
   "outputs": [
    {
     "data": {
      "text/html": [
       "<div>\n",
       "<style scoped>\n",
       "    .dataframe tbody tr th:only-of-type {\n",
       "        vertical-align: middle;\n",
       "    }\n",
       "\n",
       "    .dataframe tbody tr th {\n",
       "        vertical-align: top;\n",
       "    }\n",
       "\n",
       "    .dataframe thead th {\n",
       "        text-align: right;\n",
       "    }\n",
       "</style>\n",
       "<table border=\"1\" class=\"dataframe\">\n",
       "  <thead>\n",
       "    <tr style=\"text-align: right;\">\n",
       "      <th></th>\n",
       "      <th>host_identity_verified</th>\n",
       "      <th>neighbourhood group</th>\n",
       "      <th>country</th>\n",
       "      <th>instant_bookable</th>\n",
       "      <th>cancellation_policy</th>\n",
       "      <th>room type</th>\n",
       "      <th>Construction year</th>\n",
       "      <th>minimum nights</th>\n",
       "      <th>number of reviews</th>\n",
       "      <th>reviews per month</th>\n",
       "      <th>review rate number</th>\n",
       "      <th>calculated host listings count</th>\n",
       "      <th>house_rules</th>\n",
       "      <th>month</th>\n",
       "      <th>year</th>\n",
       "      <th>day</th>\n",
       "    </tr>\n",
       "  </thead>\n",
       "  <tbody>\n",
       "    <tr>\n",
       "      <th>0</th>\n",
       "      <td>0.0</td>\n",
       "      <td>0.0</td>\n",
       "      <td>1.0</td>\n",
       "      <td>False</td>\n",
       "      <td>0.0</td>\n",
       "      <td>0</td>\n",
       "      <td>2020.0</td>\n",
       "      <td>10.0</td>\n",
       "      <td>9.0</td>\n",
       "      <td>0.21</td>\n",
       "      <td>4.0</td>\n",
       "      <td>6.0</td>\n",
       "      <td>444</td>\n",
       "      <td>10.0</td>\n",
       "      <td>2021.0</td>\n",
       "      <td>19.0</td>\n",
       "    </tr>\n",
       "    <tr>\n",
       "      <th>1</th>\n",
       "      <td>1.0</td>\n",
       "      <td>1.0</td>\n",
       "      <td>1.0</td>\n",
       "      <td>False</td>\n",
       "      <td>1.0</td>\n",
       "      <td>1</td>\n",
       "      <td>2007.0</td>\n",
       "      <td>30.0</td>\n",
       "      <td>45.0</td>\n",
       "      <td>0.38</td>\n",
       "      <td>4.0</td>\n",
       "      <td>2.0</td>\n",
       "      <td>1218</td>\n",
       "      <td>5.0</td>\n",
       "      <td>2022.0</td>\n",
       "      <td>21.0</td>\n",
       "    </tr>\n",
       "  </tbody>\n",
       "</table>\n",
       "</div>"
      ],
      "text/plain": [
       "   host_identity_verified  neighbourhood group  country instant_bookable  \\\n",
       "0                     0.0                  0.0      1.0            False   \n",
       "1                     1.0                  1.0      1.0            False   \n",
       "\n",
       "   cancellation_policy  room type  Construction year  minimum nights  \\\n",
       "0                  0.0          0             2020.0            10.0   \n",
       "1                  1.0          1             2007.0            30.0   \n",
       "\n",
       "   number of reviews  reviews per month  review rate number  \\\n",
       "0                9.0               0.21                 4.0   \n",
       "1               45.0               0.38                 4.0   \n",
       "\n",
       "   calculated host listings count  house_rules  month    year   day  \n",
       "0                             6.0          444   10.0  2021.0  19.0  \n",
       "1                             2.0         1218    5.0  2022.0  21.0  "
      ]
     },
     "execution_count": 58,
     "metadata": {},
     "output_type": "execute_result"
    }
   ],
   "source": [
    "x_cat.head(2)"
   ]
  },
  {
   "cell_type": "code",
   "execution_count": 59,
   "id": "d3500fd6-358b-44f2-ac26-59824bc371aa",
   "metadata": {},
   "outputs": [],
   "source": [
    "#reset index of dataframes\n",
    "x_norm_trans=x_norm_trans.reset_index(drop=True)\n",
    "x_cat=x_cat.reset_index(drop=True)"
   ]
  },
  {
   "cell_type": "code",
   "execution_count": 60,
   "id": "96ede746-037c-422e-9607-c39b339461a3",
   "metadata": {},
   "outputs": [
    {
     "data": {
      "text/plain": [
       "((84388, 16), (84388, 5))"
      ]
     },
     "execution_count": 60,
     "metadata": {},
     "output_type": "execute_result"
    }
   ],
   "source": [
    "x_cat.shape,x_norm_trans.shape"
   ]
  },
  {
   "cell_type": "code",
   "execution_count": 61,
   "id": "078dafc5-23dd-45bb-925b-ce182d16fa0d",
   "metadata": {},
   "outputs": [],
   "source": [
    "#join dataframes\n",
    "x_complete = x_cat.join(x_norm_trans) # on = index)  #.reset_index()\n"
   ]
  },
  {
   "cell_type": "code",
   "execution_count": 62,
   "id": "9d274b4e-e2f1-4758-bbb5-49987426ac93",
   "metadata": {},
   "outputs": [
    {
     "data": {
      "text/html": [
       "<div>\n",
       "<style scoped>\n",
       "    .dataframe tbody tr th:only-of-type {\n",
       "        vertical-align: middle;\n",
       "    }\n",
       "\n",
       "    .dataframe tbody tr th {\n",
       "        vertical-align: top;\n",
       "    }\n",
       "\n",
       "    .dataframe thead th {\n",
       "        text-align: right;\n",
       "    }\n",
       "</style>\n",
       "<table border=\"1\" class=\"dataframe\">\n",
       "  <thead>\n",
       "    <tr style=\"text-align: right;\">\n",
       "      <th></th>\n",
       "      <th>host_identity_verified</th>\n",
       "      <th>neighbourhood group</th>\n",
       "      <th>country</th>\n",
       "      <th>instant_bookable</th>\n",
       "      <th>cancellation_policy</th>\n",
       "      <th>room type</th>\n",
       "      <th>Construction year</th>\n",
       "      <th>minimum nights</th>\n",
       "      <th>number of reviews</th>\n",
       "      <th>reviews per month</th>\n",
       "      <th>review rate number</th>\n",
       "      <th>calculated host listings count</th>\n",
       "      <th>house_rules</th>\n",
       "      <th>month</th>\n",
       "      <th>year</th>\n",
       "      <th>day</th>\n",
       "      <th>neighbourhood</th>\n",
       "      <th>lat</th>\n",
       "      <th>long</th>\n",
       "      <th>service fee</th>\n",
       "      <th>availability 365</th>\n",
       "    </tr>\n",
       "  </thead>\n",
       "  <tbody>\n",
       "    <tr>\n",
       "      <th>0</th>\n",
       "      <td>0.0</td>\n",
       "      <td>0.0</td>\n",
       "      <td>1.0</td>\n",
       "      <td>False</td>\n",
       "      <td>0.0</td>\n",
       "      <td>0</td>\n",
       "      <td>2020.0</td>\n",
       "      <td>10.0</td>\n",
       "      <td>9.0</td>\n",
       "      <td>0.21</td>\n",
       "      <td>4.0</td>\n",
       "      <td>6.0</td>\n",
       "      <td>444</td>\n",
       "      <td>10.0</td>\n",
       "      <td>2021.0</td>\n",
       "      <td>19.0</td>\n",
       "      <td>0.049200</td>\n",
       "      <td>-1.418153</td>\n",
       "      <td>-0.474059</td>\n",
       "      <td>1.021183</td>\n",
       "      <td>1.076864</td>\n",
       "    </tr>\n",
       "    <tr>\n",
       "      <th>1</th>\n",
       "      <td>1.0</td>\n",
       "      <td>1.0</td>\n",
       "      <td>1.0</td>\n",
       "      <td>False</td>\n",
       "      <td>1.0</td>\n",
       "      <td>1</td>\n",
       "      <td>2007.0</td>\n",
       "      <td>30.0</td>\n",
       "      <td>45.0</td>\n",
       "      <td>0.38</td>\n",
       "      <td>4.0</td>\n",
       "      <td>2.0</td>\n",
       "      <td>1218</td>\n",
       "      <td>5.0</td>\n",
       "      <td>2022.0</td>\n",
       "      <td>21.0</td>\n",
       "      <td>0.321906</td>\n",
       "      <td>0.465928</td>\n",
       "      <td>-0.700302</td>\n",
       "      <td>-1.464859</td>\n",
       "      <td>0.643857</td>\n",
       "    </tr>\n",
       "    <tr>\n",
       "      <th>2</th>\n",
       "      <td>0.0</td>\n",
       "      <td>0.0</td>\n",
       "      <td>1.0</td>\n",
       "      <td>True</td>\n",
       "      <td>1.0</td>\n",
       "      <td>1</td>\n",
       "      <td>2005.0</td>\n",
       "      <td>30.0</td>\n",
       "      <td>270.0</td>\n",
       "      <td>4.64</td>\n",
       "      <td>4.0</td>\n",
       "      <td>1.0</td>\n",
       "      <td>1976</td>\n",
       "      <td>7.0</td>\n",
       "      <td>2019.0</td>\n",
       "      <td>5.0</td>\n",
       "      <td>-0.941150</td>\n",
       "      <td>-0.749768</td>\n",
       "      <td>-0.223802</td>\n",
       "      <td>-0.771781</td>\n",
       "      <td>1.345626</td>\n",
       "    </tr>\n",
       "    <tr>\n",
       "      <th>3</th>\n",
       "      <td>1.0</td>\n",
       "      <td>1.0</td>\n",
       "      <td>1.0</td>\n",
       "      <td>False</td>\n",
       "      <td>1.0</td>\n",
       "      <td>1</td>\n",
       "      <td>2009.0</td>\n",
       "      <td>10.0</td>\n",
       "      <td>9.0</td>\n",
       "      <td>0.10</td>\n",
       "      <td>3.0</td>\n",
       "      <td>1.0</td>\n",
       "      <td>1368</td>\n",
       "      <td>11.0</td>\n",
       "      <td>2018.0</td>\n",
       "      <td>19.0</td>\n",
       "      <td>-0.654092</td>\n",
       "      <td>1.262841</td>\n",
       "      <td>0.089168</td>\n",
       "      <td>-1.268989</td>\n",
       "      <td>1.099261</td>\n",
       "    </tr>\n",
       "    <tr>\n",
       "      <th>4</th>\n",
       "      <td>1.0</td>\n",
       "      <td>1.0</td>\n",
       "      <td>1.0</td>\n",
       "      <td>True</td>\n",
       "      <td>2.0</td>\n",
       "      <td>1</td>\n",
       "      <td>2013.0</td>\n",
       "      <td>3.0</td>\n",
       "      <td>74.0</td>\n",
       "      <td>0.59</td>\n",
       "      <td>3.0</td>\n",
       "      <td>1.0</td>\n",
       "      <td>1126</td>\n",
       "      <td>6.0</td>\n",
       "      <td>2019.0</td>\n",
       "      <td>22.0</td>\n",
       "      <td>0.465435</td>\n",
       "      <td>0.360300</td>\n",
       "      <td>-0.526253</td>\n",
       "      <td>-0.154037</td>\n",
       "      <td>1.733839</td>\n",
       "    </tr>\n",
       "  </tbody>\n",
       "</table>\n",
       "</div>"
      ],
      "text/plain": [
       "   host_identity_verified  neighbourhood group  country instant_bookable  \\\n",
       "0                     0.0                  0.0      1.0            False   \n",
       "1                     1.0                  1.0      1.0            False   \n",
       "2                     0.0                  0.0      1.0             True   \n",
       "3                     1.0                  1.0      1.0            False   \n",
       "4                     1.0                  1.0      1.0             True   \n",
       "\n",
       "   cancellation_policy  room type  Construction year  minimum nights  \\\n",
       "0                  0.0          0             2020.0            10.0   \n",
       "1                  1.0          1             2007.0            30.0   \n",
       "2                  1.0          1             2005.0            30.0   \n",
       "3                  1.0          1             2009.0            10.0   \n",
       "4                  2.0          1             2013.0             3.0   \n",
       "\n",
       "   number of reviews  reviews per month  review rate number  \\\n",
       "0                9.0               0.21                 4.0   \n",
       "1               45.0               0.38                 4.0   \n",
       "2              270.0               4.64                 4.0   \n",
       "3                9.0               0.10                 3.0   \n",
       "4               74.0               0.59                 3.0   \n",
       "\n",
       "   calculated host listings count  house_rules  month    year   day  \\\n",
       "0                             6.0          444   10.0  2021.0  19.0   \n",
       "1                             2.0         1218    5.0  2022.0  21.0   \n",
       "2                             1.0         1976    7.0  2019.0   5.0   \n",
       "3                             1.0         1368   11.0  2018.0  19.0   \n",
       "4                             1.0         1126    6.0  2019.0  22.0   \n",
       "\n",
       "   neighbourhood       lat      long  service fee  availability 365  \n",
       "0       0.049200 -1.418153 -0.474059     1.021183          1.076864  \n",
       "1       0.321906  0.465928 -0.700302    -1.464859          0.643857  \n",
       "2      -0.941150 -0.749768 -0.223802    -0.771781          1.345626  \n",
       "3      -0.654092  1.262841  0.089168    -1.268989          1.099261  \n",
       "4       0.465435  0.360300 -0.526253    -0.154037          1.733839  "
      ]
     },
     "execution_count": 62,
     "metadata": {},
     "output_type": "execute_result"
    }
   ],
   "source": [
    "x_complete.head()"
   ]
  },
  {
   "cell_type": "code",
   "execution_count": 63,
   "id": "0ea8bdd3-b359-4400-96d5-7a768de4c0c3",
   "metadata": {},
   "outputs": [],
   "source": [
    "x_complete['instant_bookable'] = x_complete['instant_bookable'].map({False : 0, True : 1}).astype('int')"
   ]
  },
  {
   "cell_type": "markdown",
   "id": "4ad3855f-8b2e-44c4-9fc8-ad6420033608",
   "metadata": {},
   "source": [
    "#### Perform EDA to uncover data distribution"
   ]
  },
  {
   "cell_type": "code",
   "execution_count": 64,
   "id": "515d5b0e-1aea-4a6e-afff-4bfa2a909721",
   "metadata": {},
   "outputs": [
    {
     "data": {
      "text/html": [
       "<div>\n",
       "<style scoped>\n",
       "    .dataframe tbody tr th:only-of-type {\n",
       "        vertical-align: middle;\n",
       "    }\n",
       "\n",
       "    .dataframe tbody tr th {\n",
       "        vertical-align: top;\n",
       "    }\n",
       "\n",
       "    .dataframe thead th {\n",
       "        text-align: right;\n",
       "    }\n",
       "</style>\n",
       "<table border=\"1\" class=\"dataframe\">\n",
       "  <thead>\n",
       "    <tr style=\"text-align: right;\">\n",
       "      <th></th>\n",
       "      <th>host_identity_verified</th>\n",
       "      <th>neighbourhood group</th>\n",
       "      <th>neighbourhood</th>\n",
       "      <th>lat</th>\n",
       "      <th>long</th>\n",
       "      <th>country</th>\n",
       "      <th>cancellation_policy</th>\n",
       "      <th>room type</th>\n",
       "      <th>Construction year</th>\n",
       "      <th>service fee</th>\n",
       "      <th>minimum nights</th>\n",
       "      <th>number of reviews</th>\n",
       "      <th>reviews per month</th>\n",
       "      <th>review rate number</th>\n",
       "      <th>calculated host listings count</th>\n",
       "      <th>availability 365</th>\n",
       "      <th>house_rules</th>\n",
       "      <th>month</th>\n",
       "      <th>year</th>\n",
       "      <th>day</th>\n",
       "    </tr>\n",
       "  </thead>\n",
       "  <tbody>\n",
       "    <tr>\n",
       "      <th>count</th>\n",
       "      <td>84388.000000</td>\n",
       "      <td>84388.000000</td>\n",
       "      <td>84388.000000</td>\n",
       "      <td>84388.000000</td>\n",
       "      <td>84388.000000</td>\n",
       "      <td>84388.0</td>\n",
       "      <td>84388.000000</td>\n",
       "      <td>84388.000000</td>\n",
       "      <td>84388.000000</td>\n",
       "      <td>84388.000000</td>\n",
       "      <td>84388.000000</td>\n",
       "      <td>84388.000000</td>\n",
       "      <td>84388.000000</td>\n",
       "      <td>84388.000000</td>\n",
       "      <td>84388.000000</td>\n",
       "      <td>84388.000000</td>\n",
       "      <td>84388.000000</td>\n",
       "      <td>84388.000000</td>\n",
       "      <td>84388.000000</td>\n",
       "      <td>84388.000000</td>\n",
       "    </tr>\n",
       "    <tr>\n",
       "      <th>mean</th>\n",
       "      <td>0.500130</td>\n",
       "      <td>1.160141</td>\n",
       "      <td>107.572096</td>\n",
       "      <td>40.727374</td>\n",
       "      <td>-73.948483</td>\n",
       "      <td>1.0</td>\n",
       "      <td>0.998874</td>\n",
       "      <td>0.572273</td>\n",
       "      <td>2012.488304</td>\n",
       "      <td>125.223527</td>\n",
       "      <td>7.418910</td>\n",
       "      <td>32.206901</td>\n",
       "      <td>1.375157</td>\n",
       "      <td>3.279625</td>\n",
       "      <td>7.028724</td>\n",
       "      <td>141.757134</td>\n",
       "      <td>1499.567000</td>\n",
       "      <td>5.893930</td>\n",
       "      <td>2018.990579</td>\n",
       "      <td>15.831777</td>\n",
       "    </tr>\n",
       "    <tr>\n",
       "      <th>std</th>\n",
       "      <td>0.500003</td>\n",
       "      <td>1.557809</td>\n",
       "      <td>69.672706</td>\n",
       "      <td>0.056330</td>\n",
       "      <td>0.050389</td>\n",
       "      <td>0.0</td>\n",
       "      <td>0.815414</td>\n",
       "      <td>0.540340</td>\n",
       "      <td>5.761341</td>\n",
       "      <td>66.370959</td>\n",
       "      <td>27.977147</td>\n",
       "      <td>51.844699</td>\n",
       "      <td>1.748143</td>\n",
       "      <td>1.282816</td>\n",
       "      <td>29.462376</td>\n",
       "      <td>133.947985</td>\n",
       "      <td>637.346457</td>\n",
       "      <td>3.018191</td>\n",
       "      <td>1.661437</td>\n",
       "      <td>9.815364</td>\n",
       "    </tr>\n",
       "    <tr>\n",
       "      <th>min</th>\n",
       "      <td>0.000000</td>\n",
       "      <td>0.000000</td>\n",
       "      <td>0.000000</td>\n",
       "      <td>40.504560</td>\n",
       "      <td>-74.249840</td>\n",
       "      <td>1.0</td>\n",
       "      <td>0.000000</td>\n",
       "      <td>0.000000</td>\n",
       "      <td>2003.000000</td>\n",
       "      <td>10.000000</td>\n",
       "      <td>-365.000000</td>\n",
       "      <td>1.000000</td>\n",
       "      <td>0.010000</td>\n",
       "      <td>1.000000</td>\n",
       "      <td>1.000000</td>\n",
       "      <td>-10.000000</td>\n",
       "      <td>0.000000</td>\n",
       "      <td>1.000000</td>\n",
       "      <td>2012.000000</td>\n",
       "      <td>1.000000</td>\n",
       "    </tr>\n",
       "    <tr>\n",
       "      <th>25%</th>\n",
       "      <td>0.000000</td>\n",
       "      <td>0.000000</td>\n",
       "      <td>52.000000</td>\n",
       "      <td>40.687670</td>\n",
       "      <td>-73.982110</td>\n",
       "      <td>1.0</td>\n",
       "      <td>0.000000</td>\n",
       "      <td>0.000000</td>\n",
       "      <td>2007.000000</td>\n",
       "      <td>68.000000</td>\n",
       "      <td>2.000000</td>\n",
       "      <td>3.000000</td>\n",
       "      <td>0.220000</td>\n",
       "      <td>2.000000</td>\n",
       "      <td>1.000000</td>\n",
       "      <td>6.000000</td>\n",
       "      <td>1030.000000</td>\n",
       "      <td>4.000000</td>\n",
       "      <td>2018.000000</td>\n",
       "      <td>6.000000</td>\n",
       "    </tr>\n",
       "    <tr>\n",
       "      <th>50%</th>\n",
       "      <td>1.000000</td>\n",
       "      <td>1.000000</td>\n",
       "      <td>97.000000</td>\n",
       "      <td>40.721330</td>\n",
       "      <td>-73.953700</td>\n",
       "      <td>1.0</td>\n",
       "      <td>1.000000</td>\n",
       "      <td>1.000000</td>\n",
       "      <td>2012.000000</td>\n",
       "      <td>125.000000</td>\n",
       "      <td>3.000000</td>\n",
       "      <td>11.000000</td>\n",
       "      <td>0.740000</td>\n",
       "      <td>3.000000</td>\n",
       "      <td>1.000000</td>\n",
       "      <td>100.000000</td>\n",
       "      <td>1976.000000</td>\n",
       "      <td>6.000000</td>\n",
       "      <td>2019.000000</td>\n",
       "      <td>17.000000</td>\n",
       "    </tr>\n",
       "    <tr>\n",
       "      <th>75%</th>\n",
       "      <td>1.000000</td>\n",
       "      <td>1.000000</td>\n",
       "      <td>174.000000</td>\n",
       "      <td>40.762620</td>\n",
       "      <td>-73.930830</td>\n",
       "      <td>1.0</td>\n",
       "      <td>2.000000</td>\n",
       "      <td>1.000000</td>\n",
       "      <td>2017.000000</td>\n",
       "      <td>183.000000</td>\n",
       "      <td>5.000000</td>\n",
       "      <td>38.000000</td>\n",
       "      <td>2.010000</td>\n",
       "      <td>4.000000</td>\n",
       "      <td>2.000000</td>\n",
       "      <td>266.000000</td>\n",
       "      <td>1976.000000</td>\n",
       "      <td>7.000000</td>\n",
       "      <td>2019.000000</td>\n",
       "      <td>24.000000</td>\n",
       "    </tr>\n",
       "    <tr>\n",
       "      <th>max</th>\n",
       "      <td>1.000000</td>\n",
       "      <td>6.000000</td>\n",
       "      <td>224.000000</td>\n",
       "      <td>40.916970</td>\n",
       "      <td>-73.705220</td>\n",
       "      <td>1.0</td>\n",
       "      <td>2.000000</td>\n",
       "      <td>3.000000</td>\n",
       "      <td>2022.000000</td>\n",
       "      <td>240.000000</td>\n",
       "      <td>5645.000000</td>\n",
       "      <td>1024.000000</td>\n",
       "      <td>90.000000</td>\n",
       "      <td>5.000000</td>\n",
       "      <td>332.000000</td>\n",
       "      <td>3677.000000</td>\n",
       "      <td>1976.000000</td>\n",
       "      <td>12.000000</td>\n",
       "      <td>2026.000000</td>\n",
       "      <td>31.000000</td>\n",
       "    </tr>\n",
       "  </tbody>\n",
       "</table>\n",
       "</div>"
      ],
      "text/plain": [
       "       host_identity_verified  neighbourhood group  neighbourhood  \\\n",
       "count            84388.000000         84388.000000   84388.000000   \n",
       "mean                 0.500130             1.160141     107.572096   \n",
       "std                  0.500003             1.557809      69.672706   \n",
       "min                  0.000000             0.000000       0.000000   \n",
       "25%                  0.000000             0.000000      52.000000   \n",
       "50%                  1.000000             1.000000      97.000000   \n",
       "75%                  1.000000             1.000000     174.000000   \n",
       "max                  1.000000             6.000000     224.000000   \n",
       "\n",
       "                lat          long  country  cancellation_policy     room type  \\\n",
       "count  84388.000000  84388.000000  84388.0         84388.000000  84388.000000   \n",
       "mean      40.727374    -73.948483      1.0             0.998874      0.572273   \n",
       "std        0.056330      0.050389      0.0             0.815414      0.540340   \n",
       "min       40.504560    -74.249840      1.0             0.000000      0.000000   \n",
       "25%       40.687670    -73.982110      1.0             0.000000      0.000000   \n",
       "50%       40.721330    -73.953700      1.0             1.000000      1.000000   \n",
       "75%       40.762620    -73.930830      1.0             2.000000      1.000000   \n",
       "max       40.916970    -73.705220      1.0             2.000000      3.000000   \n",
       "\n",
       "       Construction year   service fee  minimum nights  number of reviews  \\\n",
       "count       84388.000000  84388.000000    84388.000000       84388.000000   \n",
       "mean         2012.488304    125.223527        7.418910          32.206901   \n",
       "std             5.761341     66.370959       27.977147          51.844699   \n",
       "min          2003.000000     10.000000     -365.000000           1.000000   \n",
       "25%          2007.000000     68.000000        2.000000           3.000000   \n",
       "50%          2012.000000    125.000000        3.000000          11.000000   \n",
       "75%          2017.000000    183.000000        5.000000          38.000000   \n",
       "max          2022.000000    240.000000     5645.000000        1024.000000   \n",
       "\n",
       "       reviews per month  review rate number  calculated host listings count  \\\n",
       "count       84388.000000        84388.000000                    84388.000000   \n",
       "mean            1.375157            3.279625                        7.028724   \n",
       "std             1.748143            1.282816                       29.462376   \n",
       "min             0.010000            1.000000                        1.000000   \n",
       "25%             0.220000            2.000000                        1.000000   \n",
       "50%             0.740000            3.000000                        1.000000   \n",
       "75%             2.010000            4.000000                        2.000000   \n",
       "max            90.000000            5.000000                      332.000000   \n",
       "\n",
       "       availability 365   house_rules         month          year  \\\n",
       "count      84388.000000  84388.000000  84388.000000  84388.000000   \n",
       "mean         141.757134   1499.567000      5.893930   2018.990579   \n",
       "std          133.947985    637.346457      3.018191      1.661437   \n",
       "min          -10.000000      0.000000      1.000000   2012.000000   \n",
       "25%            6.000000   1030.000000      4.000000   2018.000000   \n",
       "50%          100.000000   1976.000000      6.000000   2019.000000   \n",
       "75%          266.000000   1976.000000      7.000000   2019.000000   \n",
       "max         3677.000000   1976.000000     12.000000   2026.000000   \n",
       "\n",
       "                day  \n",
       "count  84388.000000  \n",
       "mean      15.831777  \n",
       "std        9.815364  \n",
       "min        1.000000  \n",
       "25%        6.000000  \n",
       "50%       17.000000  \n",
       "75%       24.000000  \n",
       "max       31.000000  "
      ]
     },
     "execution_count": 64,
     "metadata": {},
     "output_type": "execute_result"
    }
   ],
   "source": [
    "x.describe()"
   ]
  },
  {
   "cell_type": "code",
   "execution_count": 65,
   "id": "fe844122-3cff-4648-bdf3-6ca9d9828d6c",
   "metadata": {},
   "outputs": [],
   "source": [
    "#import necessary libraries \n",
    "import seaborn as sns\n",
    "import matplotlib.pyplot as plt"
   ]
  },
  {
   "cell_type": "code",
   "execution_count": 66,
   "id": "20cd44bf-ed58-4beb-a641-6dfdc2c4abf6",
   "metadata": {},
   "outputs": [
    {
     "name": "stderr",
     "output_type": "stream",
     "text": [
      "C:\\Users\\USER\\AppData\\Local\\Temp\\ipykernel_13260\\4003535821.py:1: UserWarning: \n",
      "\n",
      "`distplot` is a deprecated function and will be removed in seaborn v0.14.0.\n",
      "\n",
      "Please adapt your code to use either `displot` (a figure-level function with\n",
      "similar flexibility) or `histplot` (an axes-level function for histograms).\n",
      "\n",
      "For a guide to updating your code to use the new functions, please see\n",
      "https://gist.github.com/mwaskom/de44147ed2974457ad6372750bbe5751\n",
      "\n",
      "  sns.distplot(x['neighbourhood'])\n",
      "C:\\Users\\USER\\anaconda3\\Lib\\site-packages\\seaborn\\_oldcore.py:1119: FutureWarning: use_inf_as_na option is deprecated and will be removed in a future version. Convert inf values to NaN before operating instead.\n",
      "  with pd.option_context('mode.use_inf_as_na', True):\n"
     ]
    },
    {
     "data": {
      "image/png": "[encoded data removed]",
      "text/plain": [
       "<Figure size 640x480 with 1 Axes>"
      ]
     },
     "metadata": {},
     "output_type": "display_data"
    }
   ],
   "source": [
    "sns.distplot(x['neighbourhood'])\n",
    "plt.show()"
   ]
  },
  {
   "cell_type": "code",
   "execution_count": 67,
   "id": "73d81782-5924-498c-ad5a-fb9a45f1494f",
   "metadata": {},
   "outputs": [
    {
     "name": "stderr",
     "output_type": "stream",
     "text": [
      "C:\\Users\\USER\\AppData\\Local\\Temp\\ipykernel_13260\\2884024394.py:1: UserWarning: \n",
      "\n",
      "`distplot` is a deprecated function and will be removed in seaborn v0.14.0.\n",
      "\n",
      "Please adapt your code to use either `displot` (a figure-level function with\n",
      "similar flexibility) or `histplot` (an axes-level function for histograms).\n",
      "\n",
      "For a guide to updating your code to use the new functions, please see\n",
      "https://gist.github.com/mwaskom/de44147ed2974457ad6372750bbe5751\n",
      "\n",
      "  sns.distplot(x_trans[9:10])\n",
      "C:\\Users\\USER\\anaconda3\\Lib\\site-packages\\seaborn\\_oldcore.py:1119: FutureWarning: use_inf_as_na option is deprecated and will be removed in a future version. Convert inf values to NaN before operating instead.\n",
      "  with pd.option_context('mode.use_inf_as_na', True):\n"
     ]
    },
    {
     "data": {
      "image/png": "[encoded data removed]",
      "text/plain": [
       "<Figure size 640x480 with 1 Axes>"
      ]
     },
     "metadata": {},
     "output_type": "display_data"
    }
   ],
   "source": [
    "sns.distplot(x_trans[9:10])\n",
    "plt.show()"
   ]
  },
  {
   "cell_type": "markdown",
   "id": "2469ae8e-5726-41b6-812b-324718368325",
   "metadata": {},
   "source": [
    "#### Build model "
   ]
  },
  {
   "cell_type": "code",
   "execution_count": 68,
   "id": "97fb659d-1757-4276-a198-f3cfe9005b51",
   "metadata": {},
   "outputs": [],
   "source": [
    "#import model\n",
    "from sklearn.linear_model import LinearRegression"
   ]
  },
  {
   "cell_type": "code",
   "execution_count": 69,
   "id": "5ffcf3e3-393f-418e-8b61-41b97c8f9ca2",
   "metadata": {},
   "outputs": [],
   "source": [
    "model = LinearRegression(n_jobs = 10)"
   ]
  },
  {
   "cell_type": "markdown",
   "id": "19c6e400-9a51-4c4b-ab50-5eacf54d4480",
   "metadata": {},
   "source": [
    "##### Split model into train and test"
   ]
  },
  {
   "cell_type": "code",
   "execution_count": 70,
   "id": "3d5048c0-6b5a-4648-a561-175ba5015410",
   "metadata": {},
   "outputs": [],
   "source": [
    "from sklearn.model_selection import train_test_split"
   ]
  },
  {
   "cell_type": "code",
   "execution_count": 71,
   "id": "78d495b2-0b66-4786-954c-6209dddf3700",
   "metadata": {},
   "outputs": [],
   "source": [
    "x_train, x_test, y_train, y_test = train_test_split(x_complete, y, train_size = 0.8, random_state = 69)"
   ]
  },
  {
   "cell_type": "code",
   "execution_count": 72,
   "id": "d59c79c3-fdf3-47d2-94c2-83a3f9abc74f",
   "metadata": {},
   "outputs": [
    {
     "data": {
      "text/html": [
       "<style>#sk-container-id-1 {color: black;background-color: white;}#sk-container-id-1 pre{padding: 0;}#sk-container-id-1 div.sk-toggleable {background-color: white;}#sk-container-id-1 label.sk-toggleable__label {cursor: pointer;display: block;width: 100%;margin-bottom: 0;padding: 0.3em;box-sizing: border-box;text-align: center;}#sk-container-id-1 label.sk-toggleable__label-arrow:before {content: \"▸\";float: left;margin-right: 0.25em;color: #696969;}#sk-container-id-1 label.sk-toggleable__label-arrow:hover:before {color: black;}#sk-container-id-1 div.sk-estimator:hover label.sk-toggleable__label-arrow:before {color: black;}#sk-container-id-1 div.sk-toggleable__content {max-height: 0;max-width: 0;overflow: hidden;text-align: left;background-color: #f0f8ff;}#sk-container-id-1 div.sk-toggleable__content pre {margin: 0.2em;color: black;border-radius: 0.25em;background-color: #f0f8ff;}#sk-container-id-1 input.sk-toggleable__control:checked~div.sk-toggleable__content {max-height: 200px;max-width: 100%;overflow: auto;}#sk-container-id-1 input.sk-toggleable__control:checked~label.sk-toggleable__label-arrow:before {content: \"▾\";}#sk-container-id-1 div.sk-estimator input.sk-toggleable__control:checked~label.sk-toggleable__label {background-color: #d4ebff;}#sk-container-id-1 div.sk-label input.sk-toggleable__control:checked~label.sk-toggleable__label {background-color: #d4ebff;}#sk-container-id-1 input.sk-hidden--visually {border: 0;clip: rect(1px 1px 1px 1px);clip: rect(1px, 1px, 1px, 1px);height: 1px;margin: -1px;overflow: hidden;padding: 0;position: absolute;width: 1px;}#sk-container-id-1 div.sk-estimator {font-family: monospace;background-color: #f0f8ff;border: 1px dotted black;border-radius: 0.25em;box-sizing: border-box;margin-bottom: 0.5em;}#sk-container-id-1 div.sk-estimator:hover {background-color: #d4ebff;}#sk-container-id-1 div.sk-parallel-item::after {content: \"\";width: 100%;border-bottom: 1px solid gray;flex-grow: 1;}#sk-container-id-1 div.sk-label:hover label.sk-toggleable__label {background-color: #d4ebff;}#sk-container-id-1 div.sk-serial::before {content: \"\";position: absolute;border-left: 1px solid gray;box-sizing: border-box;top: 0;bottom: 0;left: 50%;z-index: 0;}#sk-container-id-1 div.sk-serial {display: flex;flex-direction: column;align-items: center;background-color: white;padding-right: 0.2em;padding-left: 0.2em;position: relative;}#sk-container-id-1 div.sk-item {position: relative;z-index: 1;}#sk-container-id-1 div.sk-parallel {display: flex;align-items: stretch;justify-content: center;background-color: white;position: relative;}#sk-container-id-1 div.sk-item::before, #sk-container-id-1 div.sk-parallel-item::before {content: \"\";position: absolute;border-left: 1px solid gray;box-sizing: border-box;top: 0;bottom: 0;left: 50%;z-index: -1;}#sk-container-id-1 div.sk-parallel-item {display: flex;flex-direction: column;z-index: 1;position: relative;background-color: white;}#sk-container-id-1 div.sk-parallel-item:first-child::after {align-self: flex-end;width: 50%;}#sk-container-id-1 div.sk-parallel-item:last-child::after {align-self: flex-start;width: 50%;}#sk-container-id-1 div.sk-parallel-item:only-child::after {width: 0;}#sk-container-id-1 div.sk-dashed-wrapped {border: 1px dashed gray;margin: 0 0.4em 0.5em 0.4em;box-sizing: border-box;padding-bottom: 0.4em;background-color: white;}#sk-container-id-1 div.sk-label label {font-family: monospace;font-weight: bold;display: inline-block;line-height: 1.2em;}#sk-container-id-1 div.sk-label-container {text-align: center;}#sk-container-id-1 div.sk-container {/* jupyter's `normalize.less` sets `[hidden] { display: none; }` but bootstrap.min.css set `[hidden] { display: none !important; }` so we also need the `!important` here to be able to override the default hidden behavior on the sphinx rendered scikit-learn.org. See: https://github.com/scikit-learn/scikit-learn/issues/21755 */display: inline-block !important;position: relative;}#sk-container-id-1 div.sk-text-repr-fallback {display: none;}</style><div id=\"sk-container-id-1\" class=\"sk-top-container\"><div class=\"sk-text-repr-fallback\"><pre>LinearRegression(n_jobs=10)</pre><b>In a Jupyter environment, please rerun this cell to show the HTML representation or trust the notebook. <br />On GitHub, the HTML representation is unable to render, please try loading this page with nbviewer.org.</b></div><div class=\"sk-container\" hidden><div class=\"sk-item\"><div class=\"sk-estimator sk-toggleable\"><input class=\"sk-toggleable__control sk-hidden--visually\" id=\"sk-estimator-id-1\" type=\"checkbox\" checked><label for=\"sk-estimator-id-1\" class=\"sk-toggleable__label sk-toggleable__label-arrow\">LinearRegression</label><div class=\"sk-toggleable__content\"><pre>LinearRegression(n_jobs=10)</pre></div></div></div></div></div>"
      ],
      "text/plain": [
       "LinearRegression(n_jobs=10)"
      ]
     },
     "execution_count": 72,
     "metadata": {},
     "output_type": "execute_result"
    }
   ],
   "source": [
    "model.fit(x_train, y_train)"
   ]
  },
  {
   "cell_type": "markdown",
   "id": "9889d70d-37bd-4cdc-936b-ebb0ffb671ff",
   "metadata": {},
   "source": [
    "#### Model Evaluation"
   ]
  },
  {
   "cell_type": "code",
   "execution_count": 80,
   "id": "785f6f9e-f832-41bb-a629-11500b46b88b",
   "metadata": {},
   "outputs": [
    {
     "name": "stdout",
     "output_type": "stream",
     "text": [
      "Model performance on train data : 0.999981816596682 \n",
      "Model performance on unseen data : 0.9999818462930642\n"
     ]
    }
   ],
   "source": [
    "print(f\"Model performance on train data : {model.score(x_train, y_train)} \\nModel performance on unseen data : {model.score(x_test, y_test)}\")"
   ]
  },
  {
   "cell_type": "markdown",
   "id": "8b98f4d7-d584-474a-a98b-2263afd51cd5",
   "metadata": {},
   "source": [
    "##### Make predictions"
   ]
  },
  {
   "cell_type": "code",
   "execution_count": 81,
   "id": "109cedf6-6162-4630-94c1-ded7b79376d3",
   "metadata": {
    "jp-MarkdownHeadingCollapsed": true
   },
   "outputs": [],
   "source": [
    "y_pred = model.predict(x_test[:5])"
   ]
  },
  {
   "cell_type": "markdown",
   "id": "0cdaf140-a13f-4bf4-93f6-0248f0e64913",
   "metadata": {},
   "source": [
    "##### Compare predicted values to actual values"
   ]
  },
  {
   "cell_type": "code",
   "execution_count": 82,
   "id": "5d98acc2-91a9-44a9-b8f4-5c336319c095",
   "metadata": {},
   "outputs": [
    {
     "name": "stdout",
     "output_type": "stream",
     "text": [
      "Predicted values[ 180.  970.  930. 1010.  825.] \n",
      "Actual values(182.0, 971.0, 928.0, 1008.0, 827.0)\n"
     ]
    }
   ],
   "source": [
    "print(f\"Predicted values{y_pred.round()} \\nActual values{tuple(y_test[:5].round())}\")"
   ]
  },
  {
   "cell_type": "raw",
   "id": "daa0023f-53dd-4eac-9779-454ccfadab53",
   "metadata": {},
   "source": [
    "Model performs well with a 99% accuracy score  "
   ]
  }
 ],
 "metadata": {
  "kernelspec": {
   "display_name": "Python 3 (ipykernel)",
   "language": "python",
   "name": "python3"
  },
  "language_info": {
   "codemirror_mode": {
    "name": "ipython",
    "version": 3
   },
   "file_extension": ".py",
   "mimetype": "text/x-python",
   "name": "python",
   "nbconvert_exporter": "python",
   "pygments_lexer": "ipython3",
   "version": "3.11.7"
  },
  "widgets": {
   "application/vnd.jupyter.widget-state+json": {
    "state": {},
    "version_major": 2,
    "version_minor": 0
   }
  }
 },
 "nbformat": 4,
 "nbformat_minor": 5
}
